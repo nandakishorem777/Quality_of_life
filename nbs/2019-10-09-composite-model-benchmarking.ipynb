{
 "cells": [
  {
   "cell_type": "code",
   "execution_count": 1,
   "metadata": {},
   "outputs": [],
   "source": [
    "%reload_ext autoreload\n",
    "%autoreload 2\n",
    "%matplotlib inline"
   ]
  },
  {
   "cell_type": "code",
   "execution_count": 2,
   "metadata": {},
   "outputs": [],
   "source": [
    "import torch\n",
    "from torch import optim\n",
    "\n",
    "from srm_dataset import get_data\n",
    "from srm_model import get_model\n",
    "from srm_train import Learner"
   ]
  },
  {
   "cell_type": "code",
   "execution_count": 8,
   "metadata": {},
   "outputs": [],
   "source": [
    "wrapper = get_model()"
   ]
  },
  {
   "cell_type": "code",
   "execution_count": 10,
   "metadata": {},
   "outputs": [],
   "source": [
    "db = get_data(img_sz=128, bs=64)"
   ]
  },
  {
   "cell_type": "code",
   "execution_count": 11,
   "metadata": {},
   "outputs": [],
   "source": [
    "xb,yb = next(iter(db.train_dl))"
   ]
  },
  {
   "cell_type": "code",
   "execution_count": 15,
   "metadata": {},
   "outputs": [],
   "source": [
    "opt_fn = optim.Adam"
   ]
  },
  {
   "cell_type": "code",
   "execution_count": 16,
   "metadata": {},
   "outputs": [],
   "source": [
    "# wrapper = get_model()\n",
    "# db = get_data(img_sz=128, bs=64)\n",
    "# opt_fn = optim.SGD\n",
    "\n",
    "learn = Learner(wrapper)"
   ]
  },
  {
   "cell_type": "code",
   "execution_count": 18,
   "metadata": {},
   "outputs": [
    {
     "name": "stdout",
     "output_type": "stream",
     "text": [
      "Epoch: 0, T.Loss: 23.452, Accs: [('$', 10.94), ('Water', 1.56), ('Toilet', 9.38), ('Roof', 4.69), ('Cook', 10.94), ('Drought', 29.69), ('Pop', 14.06), ('Livestock', 31.25), ('Agri', 39.06)]\n",
      "Epoch: 0, T.Loss: 19.297, Accs: [('$', 26.56), ('Water', 46.88), ('Toilet', 53.12), ('Roof', 29.69), ('Cook', 62.5), ('Drought', 35.94), ('Pop', 34.38), ('Livestock', 45.31), ('Agri', 32.81)]\n",
      "Epoch: 0, T.Loss: 18.216, Accs: [('$', 39.06), ('Water', 50.0), ('Toilet', 54.69), ('Roof', 34.38), ('Cook', 64.06), ('Drought', 68.75), ('Pop', 43.75), ('Livestock', 51.56), ('Agri', 45.31)]\n",
      "Epoch: 0, T.Loss: 18.099, Accs: [('$', 34.38), ('Water', 45.31), ('Toilet', 57.81), ('Roof', 25.0), ('Cook', 64.06), ('Drought', 64.06), ('Pop', 48.44), ('Livestock', 45.31), ('Agri', 39.06)]\n",
      "Epoch: 0, T.Loss: 17.716, Accs: [('$', 28.12), ('Water', 46.88), ('Toilet', 56.25), ('Roof', 35.94), ('Cook', 78.12), ('Drought', 65.62), ('Pop', 43.75), ('Livestock', 45.31), ('Agri', 45.31)]\n",
      "Epoch: 0, T.Loss: 17.134, Accs: [('$', 43.75), ('Water', 48.44), ('Toilet', 64.06), ('Roof', 26.56), ('Cook', 70.31), ('Drought', 60.94), ('Pop', 48.44), ('Livestock', 34.38), ('Agri', 48.44)]\n",
      "Epoch: 0, T.Loss: 16.651, Accs: [('$', 29.69), ('Water', 51.56), ('Toilet', 64.06), ('Roof', 23.44), ('Cook', 71.88), ('Drought', 60.94), ('Pop', 46.88), ('Livestock', 42.19), ('Agri', 39.06)]\n",
      "Epoch: 0, T.Loss: 17.456, Accs: [('$', 29.69), ('Water', 56.25), ('Toilet', 64.06), ('Roof', 31.25), ('Cook', 59.38), ('Drought', 64.06), ('Pop', 53.12), ('Livestock', 42.19), ('Agri', 48.44)]\n",
      "Epoch: 0, T.Loss: 16.759, Accs: [('$', 31.25), ('Water', 48.44), ('Toilet', 59.38), ('Roof', 39.06), ('Cook', 67.19), ('Drought', 57.81), ('Pop', 40.62), ('Livestock', 39.06), ('Agri', 45.31)]\n",
      "Epoch: 0, T.Loss: 17.344, Accs: [('$', 29.69), ('Water', 51.56), ('Toilet', 56.25), ('Roof', 29.69), ('Cook', 68.75), ('Drought', 70.31), ('Pop', 51.56), ('Livestock', 42.19), ('Agri', 51.56)]\n",
      "Epoch: 0, T.Loss: 16.840, Accs: [('$', 45.31), ('Water', 46.88), ('Toilet', 53.12), ('Roof', 35.94), ('Cook', 71.88), ('Drought', 65.62), ('Pop', 35.94), ('Livestock', 28.12), ('Agri', 42.19)]\n",
      "Epoch: 0, T.Loss: 16.674, Accs: [('$', 42.19), ('Water', 53.12), ('Toilet', 65.62), ('Roof', 29.69), ('Cook', 62.5), ('Drought', 57.81), ('Pop', 28.12), ('Livestock', 45.31), ('Agri', 50.0)]\n",
      "Epoch: 0, T.Loss: 16.768, Accs: [('$', 46.88), ('Water', 51.56), ('Toilet', 53.12), ('Roof', 25.0), ('Cook', 68.75), ('Drought', 67.19), ('Pop', 39.06), ('Livestock', 40.62), ('Agri', 48.44)]\n",
      "Epoch: 0, T.Loss: 15.457, Accs: [('$', 45.31), ('Water', 65.62), ('Toilet', 71.88), ('Roof', 28.12), ('Cook', 73.44), ('Drought', 68.75), ('Pop', 59.38), ('Livestock', 45.31), ('Agri', 51.56)]\n",
      "Epoch: 0, T.Loss: 17.196, Accs: [('$', 28.12), ('Water', 50.0), ('Toilet', 48.44), ('Roof', 37.5), ('Cook', 68.75), ('Drought', 71.88), ('Pop', 50.0), ('Livestock', 39.06), ('Agri', 50.0)]\n",
      "Epoch: 0, T.Loss: 17.312, Accs: [('$', 39.06), ('Water', 45.31), ('Toilet', 50.0), ('Roof', 26.56), ('Cook', 71.88), ('Drought', 60.94), ('Pop', 39.06), ('Livestock', 45.31), ('Agri', 48.44)]\n",
      "Epoch: 0, T.Loss: 16.846, Accs: [('$', 35.94), ('Water', 54.69), ('Toilet', 56.25), ('Roof', 31.25), ('Cook', 73.44), ('Drought', 62.5), ('Pop', 35.94), ('Livestock', 48.44), ('Agri', 54.69)]\n",
      "Epoch: 0, T.Loss: 15.184, Accs: [('$', 50.0), ('Water', 62.5), ('Toilet', 59.38), ('Roof', 32.81), ('Cook', 75.0), ('Drought', 71.88), ('Pop', 35.94), ('Livestock', 46.88), ('Agri', 57.81)]\n",
      "Epoch: 0, T.Loss: 16.546, Accs: [('$', 37.5), ('Water', 50.0), ('Toilet', 62.5), ('Roof', 34.38), ('Cook', 60.94), ('Drought', 73.44), ('Pop', 45.31), ('Livestock', 45.31), ('Agri', 46.88)]\n",
      "Epoch: 0, T.Loss: 18.389, Accs: [('$', 25.0), ('Water', 46.88), ('Toilet', 60.94), ('Roof', 29.69), ('Cook', 67.19), ('Drought', 64.06), ('Pop', 48.44), ('Livestock', 43.75), ('Agri', 62.5)]\n",
      "Epoch: 0, T.Loss: 16.602, Accs: [('$', 37.5), ('Water', 46.88), ('Toilet', 64.06), ('Roof', 35.94), ('Cook', 73.44), ('Drought', 59.38), ('Pop', 48.44), ('Livestock', 35.94), ('Agri', 43.75)]\n",
      "Epoch: 0, T.Loss: 17.471, Accs: [('$', 29.69), ('Water', 57.81), ('Toilet', 45.31), ('Roof', 31.25), ('Cook', 57.81), ('Drought', 62.5), ('Pop', 48.44), ('Livestock', 40.62), ('Agri', 57.81)]\n",
      "Epoch: 0, T.Loss: 16.862, Accs: [('$', 46.88), ('Water', 45.31), ('Toilet', 51.56), ('Roof', 18.75), ('Cook', 70.31), ('Drought', 54.69), ('Pop', 42.19), ('Livestock', 43.75), ('Agri', 48.44)]\n",
      "Epoch: 0, T.Loss: 15.457, Accs: [('$', 35.94), ('Water', 68.75), ('Toilet', 64.06), ('Roof', 37.5), ('Cook', 73.44), ('Drought', 56.25), ('Pop', 46.88), ('Livestock', 48.44), ('Agri', 56.25)]\n",
      "Epoch: 0, T.Loss: 15.945, Accs: [('$', 42.19), ('Water', 54.69), ('Toilet', 53.12), ('Roof', 32.81), ('Cook', 75.0), ('Drought', 67.19), ('Pop', 46.88), ('Livestock', 43.75), ('Agri', 42.19)]\n",
      "Epoch: 0, T.Loss: 15.972, Accs: [('$', 43.75), ('Water', 51.56), ('Toilet', 62.5), ('Roof', 34.38), ('Cook', 71.88), ('Drought', 54.69), ('Pop', 51.56), ('Livestock', 48.44), ('Agri', 43.75)]\n",
      "Epoch: 0, T.Loss: 16.065, Accs: [('$', 39.06), ('Water', 59.38), ('Toilet', 54.69), ('Roof', 40.62), ('Cook', 65.62), ('Drought', 67.19), ('Pop', 39.06), ('Livestock', 53.12), ('Agri', 53.12)]\n",
      "Epoch: 0, T.Loss: 16.736, Accs: [('$', 32.81), ('Water', 48.44), ('Toilet', 59.38), ('Roof', 26.56), ('Cook', 71.88), ('Drought', 59.38), ('Pop', 40.62), ('Livestock', 46.88), ('Agri', 43.75)]\n",
      "Epoch: 0, T.Loss: 19.309, Accs: [('$', 0.0), ('Water', 33.33), ('Toilet', 66.67), ('Roof', 0.0), ('Cook', 33.33), ('Drought', 66.67), ('Pop', 0.0), ('Livestock', 33.33), ('Agri', 33.33)]\n",
      "Epoch: 0, V.Loss: 16.283, Accs: [('$', 35.14), ('Water', 51.26), ('Toilet', 57.88), ('Roof', 36.65), ('Cook', 69.23), ('Drought', 63.76), ('Pop', 42.07), ('Livestock', 45.28), ('Agri', 45.38)]\n"
     ]
    }
   ],
   "source": [
    "learn.wrapper.freeze_features()\n",
    "learn.fit(1, 1e-1, db, opt_fn)"
   ]
  },
  {
   "cell_type": "code",
   "execution_count": 23,
   "metadata": {},
   "outputs": [
    {
     "name": "stdout",
     "output_type": "stream",
     "text": [
      "Epoch: 0, T.Loss: 16.734, Accs: [('$', 34.38), ('Water', 59.38), ('Toilet', 57.81), ('Roof', 29.69), ('Cook', 73.44), ('Drought', 60.94), ('Pop', 35.94), ('Livestock', 48.44), ('Agri', 45.31)]\n",
      "Epoch: 0, T.Loss: 17.229, Accs: [('$', 42.19), ('Water', 56.25), ('Toilet', 59.38), ('Roof', 32.81), ('Cook', 68.75), ('Drought', 56.25), ('Pop', 39.06), ('Livestock', 46.88), ('Agri', 46.88)]\n",
      "Epoch: 0, T.Loss: 17.343, Accs: [('$', 34.38), ('Water', 50.0), ('Toilet', 56.25), ('Roof', 39.06), ('Cook', 60.94), ('Drought', 68.75), ('Pop', 51.56), ('Livestock', 46.88), ('Agri', 51.56)]\n",
      "Epoch: 0, T.Loss: 17.277, Accs: [('$', 32.81), ('Water', 51.56), ('Toilet', 45.31), ('Roof', 34.38), ('Cook', 68.75), ('Drought', 70.31), ('Pop', 35.94), ('Livestock', 40.62), ('Agri', 42.19)]\n",
      "Epoch: 0, T.Loss: 17.240, Accs: [('$', 40.62), ('Water', 43.75), ('Toilet', 53.12), ('Roof', 31.25), ('Cook', 70.31), ('Drought', 59.38), ('Pop', 35.94), ('Livestock', 51.56), ('Agri', 53.12)]\n",
      "Epoch: 0, T.Loss: 16.187, Accs: [('$', 45.31), ('Water', 46.88), ('Toilet', 59.38), ('Roof', 32.81), ('Cook', 71.88), ('Drought', 62.5), ('Pop', 37.5), ('Livestock', 51.56), ('Agri', 50.0)]\n",
      "Epoch: 0, T.Loss: 16.620, Accs: [('$', 35.94), ('Water', 46.88), ('Toilet', 76.56), ('Roof', 26.56), ('Cook', 67.19), ('Drought', 65.62), ('Pop', 45.31), ('Livestock', 51.56), ('Agri', 45.31)]\n",
      "Epoch: 0, T.Loss: 16.678, Accs: [('$', 40.62), ('Water', 43.75), ('Toilet', 54.69), ('Roof', 18.75), ('Cook', 73.44), ('Drought', 51.56), ('Pop', 51.56), ('Livestock', 46.88), ('Agri', 48.44)]\n",
      "Epoch: 0, T.Loss: 16.611, Accs: [('$', 37.5), ('Water', 50.0), ('Toilet', 57.81), ('Roof', 29.69), ('Cook', 78.12), ('Drought', 59.38), ('Pop', 51.56), ('Livestock', 45.31), ('Agri', 54.69)]\n",
      "Epoch: 0, T.Loss: 17.675, Accs: [('$', 42.19), ('Water', 48.44), ('Toilet', 46.88), ('Roof', 20.31), ('Cook', 64.06), ('Drought', 53.12), ('Pop', 51.56), ('Livestock', 51.56), ('Agri', 43.75)]\n",
      "Epoch: 0, T.Loss: 17.083, Accs: [('$', 29.69), ('Water', 60.94), ('Toilet', 57.81), ('Roof', 31.25), ('Cook', 67.19), ('Drought', 75.0), ('Pop', 39.06), ('Livestock', 39.06), ('Agri', 59.38)]\n",
      "Epoch: 0, T.Loss: 16.823, Accs: [('$', 43.75), ('Water', 50.0), ('Toilet', 57.81), ('Roof', 20.31), ('Cook', 76.56), ('Drought', 68.75), ('Pop', 39.06), ('Livestock', 42.19), ('Agri', 45.31)]\n",
      "Epoch: 0, T.Loss: 16.270, Accs: [('$', 39.06), ('Water', 39.06), ('Toilet', 56.25), ('Roof', 37.5), ('Cook', 73.44), ('Drought', 56.25), ('Pop', 46.88), ('Livestock', 45.31), ('Agri', 48.44)]\n",
      "Epoch: 0, T.Loss: 17.068, Accs: [('$', 31.25), ('Water', 51.56), ('Toilet', 59.38), ('Roof', 18.75), ('Cook', 68.75), ('Drought', 67.19), ('Pop', 32.81), ('Livestock', 48.44), ('Agri', 42.19)]\n",
      "Epoch: 0, T.Loss: 17.150, Accs: [('$', 32.81), ('Water', 53.12), ('Toilet', 62.5), ('Roof', 34.38), ('Cook', 54.69), ('Drought', 53.12), ('Pop', 39.06), ('Livestock', 50.0), ('Agri', 43.75)]\n",
      "Epoch: 0, T.Loss: 16.763, Accs: [('$', 39.06), ('Water', 51.56), ('Toilet', 56.25), ('Roof', 29.69), ('Cook', 65.62), ('Drought', 73.44), ('Pop', 54.69), ('Livestock', 45.31), ('Agri', 50.0)]\n",
      "Epoch: 0, T.Loss: 16.615, Accs: [('$', 34.38), ('Water', 56.25), ('Toilet', 50.0), ('Roof', 32.81), ('Cook', 70.31), ('Drought', 67.19), ('Pop', 40.62), ('Livestock', 57.81), ('Agri', 53.12)]\n",
      "Epoch: 0, T.Loss: 16.877, Accs: [('$', 31.25), ('Water', 50.0), ('Toilet', 62.5), ('Roof', 37.5), ('Cook', 65.62), ('Drought', 62.5), ('Pop', 43.75), ('Livestock', 57.81), ('Agri', 50.0)]\n",
      "Epoch: 0, T.Loss: 16.037, Accs: [('$', 39.06), ('Water', 51.56), ('Toilet', 62.5), ('Roof', 40.62), ('Cook', 73.44), ('Drought', 71.88), ('Pop', 50.0), ('Livestock', 37.5), ('Agri', 50.0)]\n",
      "Epoch: 0, T.Loss: 16.674, Accs: [('$', 43.75), ('Water', 46.88), ('Toilet', 60.94), ('Roof', 37.5), ('Cook', 78.12), ('Drought', 64.06), ('Pop', 46.88), ('Livestock', 53.12), ('Agri', 48.44)]\n",
      "Epoch: 0, T.Loss: 17.082, Accs: [('$', 37.5), ('Water', 57.81), ('Toilet', 56.25), ('Roof', 35.94), ('Cook', 65.62), ('Drought', 67.19), ('Pop', 39.06), ('Livestock', 43.75), ('Agri', 40.62)]\n",
      "Epoch: 0, T.Loss: 17.094, Accs: [('$', 32.81), ('Water', 54.69), ('Toilet', 45.31), ('Roof', 32.81), ('Cook', 60.94), ('Drought', 62.5), ('Pop', 40.62), ('Livestock', 46.88), ('Agri', 42.19)]\n",
      "Epoch: 0, T.Loss: 16.971, Accs: [('$', 43.75), ('Water', 60.94), ('Toilet', 46.88), ('Roof', 31.25), ('Cook', 64.06), ('Drought', 59.38), ('Pop', 46.88), ('Livestock', 35.94), ('Agri', 64.06)]\n",
      "Epoch: 0, T.Loss: 17.382, Accs: [('$', 43.75), ('Water', 48.44), ('Toilet', 57.81), ('Roof', 28.12), ('Cook', 71.88), ('Drought', 54.69), ('Pop', 50.0), ('Livestock', 46.88), ('Agri', 48.44)]\n",
      "Epoch: 0, T.Loss: 16.550, Accs: [('$', 35.94), ('Water', 46.88), ('Toilet', 57.81), ('Roof', 37.5), ('Cook', 81.25), ('Drought', 70.31), ('Pop', 54.69), ('Livestock', 40.62), ('Agri', 42.19)]\n",
      "Epoch: 0, T.Loss: 17.001, Accs: [('$', 37.5), ('Water', 50.0), ('Toilet', 62.5), ('Roof', 28.12), ('Cook', 64.06), ('Drought', 57.81), ('Pop', 39.06), ('Livestock', 48.44), ('Agri', 53.12)]\n",
      "Epoch: 0, T.Loss: 16.178, Accs: [('$', 48.44), ('Water', 50.0), ('Toilet', 59.38), ('Roof', 29.69), ('Cook', 71.88), ('Drought', 62.5), ('Pop', 46.88), ('Livestock', 42.19), ('Agri', 48.44)]\n",
      "Epoch: 0, T.Loss: 15.772, Accs: [('$', 48.44), ('Water', 53.12), ('Toilet', 59.38), ('Roof', 34.38), ('Cook', 81.25), ('Drought', 65.62), ('Pop', 42.19), ('Livestock', 40.62), ('Agri', 48.44)]\n",
      "Epoch: 0, T.Loss: 18.721, Accs: [('$', 0.0), ('Water', 33.33), ('Toilet', 0.0), ('Roof', 33.33), ('Cook', 100.0), ('Drought', 33.33), ('Pop', 33.33), ('Livestock', 0.0), ('Agri', 100.0)]\n",
      "Epoch: 0, V.Loss: 16.583, Accs: [('$', 40.96), ('Water', 51.26), ('Toilet', 57.23), ('Roof', 31.17), ('Cook', 69.08), ('Drought', 63.76), ('Pop', 42.67), ('Livestock', 45.98), ('Agri', 46.03)]\n"
     ]
    }
   ],
   "source": [
    "learn.wrapper.partial_freeze_features(pct=0.7)\n",
    "learn.fit(1, 1e-1, db, opt_fn)"
   ]
  },
  {
   "cell_type": "code",
   "execution_count": 25,
   "metadata": {},
   "outputs": [
    {
     "name": "stdout",
     "output_type": "stream",
     "text": [
      "Epoch: 0, T.Loss: 17.532, Accs: [('$', 35.94), ('Water', 48.44), ('Toilet', 60.94), ('Roof', 26.56), ('Cook', 60.94), ('Drought', 67.19), ('Pop', 40.62), ('Livestock', 45.31), ('Agri', 57.81)]\n",
      "Epoch: 0, T.Loss: 17.321, Accs: [('$', 25.0), ('Water', 54.69), ('Toilet', 56.25), ('Roof', 21.88), ('Cook', 70.31), ('Drought', 71.88), ('Pop', 45.31), ('Livestock', 51.56), ('Agri', 54.69)]\n",
      "Epoch: 0, T.Loss: 15.873, Accs: [('$', 48.44), ('Water', 60.94), ('Toilet', 62.5), ('Roof', 26.56), ('Cook', 81.25), ('Drought', 67.19), ('Pop', 46.88), ('Livestock', 59.38), ('Agri', 37.5)]\n",
      "Epoch: 0, T.Loss: 17.270, Accs: [('$', 35.94), ('Water', 48.44), ('Toilet', 42.19), ('Roof', 28.12), ('Cook', 68.75), ('Drought', 60.94), ('Pop', 50.0), ('Livestock', 53.12), ('Agri', 54.69)]\n",
      "Epoch: 0, T.Loss: 17.109, Accs: [('$', 28.12), ('Water', 60.94), ('Toilet', 59.38), ('Roof', 23.44), ('Cook', 70.31), ('Drought', 59.38), ('Pop', 40.62), ('Livestock', 35.94), ('Agri', 62.5)]\n",
      "Epoch: 0, T.Loss: 16.856, Accs: [('$', 39.06), ('Water', 54.69), ('Toilet', 54.69), ('Roof', 39.06), ('Cook', 68.75), ('Drought', 64.06), ('Pop', 62.5), ('Livestock', 46.88), ('Agri', 54.69)]\n",
      "Epoch: 0, T.Loss: 17.353, Accs: [('$', 32.81), ('Water', 40.62), ('Toilet', 51.56), ('Roof', 26.56), ('Cook', 67.19), ('Drought', 57.81), ('Pop', 46.88), ('Livestock', 43.75), ('Agri', 45.31)]\n",
      "Epoch: 0, T.Loss: 17.360, Accs: [('$', 42.19), ('Water', 48.44), ('Toilet', 50.0), ('Roof', 26.56), ('Cook', 65.62), ('Drought', 62.5), ('Pop', 39.06), ('Livestock', 50.0), ('Agri', 51.56)]\n",
      "Epoch: 0, T.Loss: 17.570, Accs: [('$', 31.25), ('Water', 40.62), ('Toilet', 50.0), ('Roof', 29.69), ('Cook', 70.31), ('Drought', 50.0), ('Pop', 45.31), ('Livestock', 51.56), ('Agri', 40.62)]\n",
      "Epoch: 0, T.Loss: 16.917, Accs: [('$', 34.38), ('Water', 59.38), ('Toilet', 65.62), ('Roof', 40.62), ('Cook', 65.62), ('Drought', 65.62), ('Pop', 51.56), ('Livestock', 40.62), ('Agri', 56.25)]\n",
      "Epoch: 0, T.Loss: 17.711, Accs: [('$', 32.81), ('Water', 42.19), ('Toilet', 48.44), ('Roof', 35.94), ('Cook', 68.75), ('Drought', 65.62), ('Pop', 57.81), ('Livestock', 56.25), ('Agri', 54.69)]\n",
      "Epoch: 0, T.Loss: 16.182, Accs: [('$', 35.94), ('Water', 53.12), ('Toilet', 64.06), ('Roof', 34.38), ('Cook', 75.0), ('Drought', 59.38), ('Pop', 39.06), ('Livestock', 46.88), ('Agri', 46.88)]\n",
      "Epoch: 0, T.Loss: 16.899, Accs: [('$', 35.94), ('Water', 40.62), ('Toilet', 56.25), ('Roof', 29.69), ('Cook', 70.31), ('Drought', 60.94), ('Pop', 48.44), ('Livestock', 62.5), ('Agri', 53.12)]\n",
      "Epoch: 0, T.Loss: 17.442, Accs: [('$', 26.56), ('Water', 48.44), ('Toilet', 62.5), ('Roof', 28.12), ('Cook', 71.88), ('Drought', 65.62), ('Pop', 42.19), ('Livestock', 46.88), ('Agri', 53.12)]\n",
      "Epoch: 0, T.Loss: 15.718, Accs: [('$', 39.06), ('Water', 54.69), ('Toilet', 76.56), ('Roof', 32.81), ('Cook', 73.44), ('Drought', 65.62), ('Pop', 51.56), ('Livestock', 48.44), ('Agri', 43.75)]\n",
      "Epoch: 0, T.Loss: 16.479, Accs: [('$', 31.25), ('Water', 56.25), ('Toilet', 67.19), ('Roof', 23.44), ('Cook', 78.12), ('Drought', 68.75), ('Pop', 43.75), ('Livestock', 53.12), ('Agri', 43.75)]\n",
      "Epoch: 0, T.Loss: 16.704, Accs: [('$', 26.56), ('Water', 54.69), ('Toilet', 56.25), ('Roof', 34.38), ('Cook', 65.62), ('Drought', 57.81), ('Pop', 48.44), ('Livestock', 48.44), ('Agri', 53.12)]\n",
      "Epoch: 0, T.Loss: 16.708, Accs: [('$', 32.81), ('Water', 46.88), ('Toilet', 43.75), ('Roof', 40.62), ('Cook', 71.88), ('Drought', 70.31), ('Pop', 46.88), ('Livestock', 40.62), ('Agri', 59.38)]\n",
      "Epoch: 0, T.Loss: 16.866, Accs: [('$', 31.25), ('Water', 57.81), ('Toilet', 62.5), ('Roof', 26.56), ('Cook', 62.5), ('Drought', 65.62), ('Pop', 45.31), ('Livestock', 48.44), ('Agri', 46.88)]\n",
      "Epoch: 0, T.Loss: 16.830, Accs: [('$', 34.38), ('Water', 43.75), ('Toilet', 53.12), ('Roof', 34.38), ('Cook', 75.0), ('Drought', 71.88), ('Pop', 43.75), ('Livestock', 46.88), ('Agri', 45.31)]\n",
      "Epoch: 0, T.Loss: 17.454, Accs: [('$', 28.12), ('Water', 42.19), ('Toilet', 54.69), ('Roof', 34.38), ('Cook', 68.75), ('Drought', 64.06), ('Pop', 34.38), ('Livestock', 51.56), ('Agri', 42.19)]\n",
      "Epoch: 0, T.Loss: 16.024, Accs: [('$', 46.88), ('Water', 59.38), ('Toilet', 64.06), ('Roof', 37.5), ('Cook', 60.94), ('Drought', 65.62), ('Pop', 50.0), ('Livestock', 54.69), ('Agri', 57.81)]\n",
      "Epoch: 0, T.Loss: 16.946, Accs: [('$', 32.81), ('Water', 53.12), ('Toilet', 56.25), ('Roof', 40.62), ('Cook', 70.31), ('Drought', 60.94), ('Pop', 37.5), ('Livestock', 56.25), ('Agri', 39.06)]\n",
      "Epoch: 0, T.Loss: 16.554, Accs: [('$', 25.0), ('Water', 50.0), ('Toilet', 60.94), ('Roof', 40.62), ('Cook', 73.44), ('Drought', 67.19), ('Pop', 45.31), ('Livestock', 48.44), ('Agri', 48.44)]\n",
      "Epoch: 0, T.Loss: 16.887, Accs: [('$', 32.81), ('Water', 46.88), ('Toilet', 53.12), ('Roof', 28.12), ('Cook', 62.5), ('Drought', 65.62), ('Pop', 46.88), ('Livestock', 53.12), ('Agri', 53.12)]\n",
      "Epoch: 0, T.Loss: 17.455, Accs: [('$', 25.0), ('Water', 51.56), ('Toilet', 53.12), ('Roof', 32.81), ('Cook', 73.44), ('Drought', 73.44), ('Pop', 65.62), ('Livestock', 46.88), ('Agri', 40.62)]\n",
      "Epoch: 0, T.Loss: 18.056, Accs: [('$', 34.38), ('Water', 45.31), ('Toilet', 50.0), ('Roof', 23.44), ('Cook', 73.44), ('Drought', 57.81), ('Pop', 46.88), ('Livestock', 46.88), ('Agri', 42.19)]\n",
      "Epoch: 0, T.Loss: 16.817, Accs: [('$', 43.75), ('Water', 53.12), ('Toilet', 50.0), ('Roof', 37.5), ('Cook', 67.19), ('Drought', 65.62), ('Pop', 35.94), ('Livestock', 54.69), ('Agri', 42.19)]\n",
      "Epoch: 0, T.Loss: 21.103, Accs: [('$', 0.0), ('Water', 66.67), ('Toilet', 33.33), ('Roof', 33.33), ('Cook', 66.67), ('Drought', 66.67), ('Pop', 33.33), ('Livestock', 33.33), ('Agri', 33.33)]\n",
      "Epoch: 0, V.Loss: 16.812, Accs: [('$', 36.55), ('Water', 51.26), ('Toilet', 57.23), ('Roof', 35.44), ('Cook', 69.08), ('Drought', 63.76), ('Pop', 42.07), ('Livestock', 48.69), ('Agri', 46.03)]\n",
      "Epoch: 1, T.Loss: 17.728, Accs: [('$', 34.38), ('Water', 56.25), ('Toilet', 51.56), ('Roof', 18.75), ('Cook', 64.06), ('Drought', 48.44), ('Pop', 42.19), ('Livestock', 45.31), ('Agri', 46.88)]\n",
      "Epoch: 1, T.Loss: 17.667, Accs: [('$', 25.0), ('Water', 50.0), ('Toilet', 54.69), ('Roof', 37.5), ('Cook', 70.31), ('Drought', 59.38), ('Pop', 45.31), ('Livestock', 48.44), ('Agri', 48.44)]\n",
      "Epoch: 1, T.Loss: 16.581, Accs: [('$', 39.06), ('Water', 62.5), ('Toilet', 67.19), ('Roof', 37.5), ('Cook', 65.62), ('Drought', 75.0), ('Pop', 40.62), ('Livestock', 37.5), ('Agri', 53.12)]\n",
      "Epoch: 1, T.Loss: 16.296, Accs: [('$', 35.94), ('Water', 64.06), ('Toilet', 67.19), ('Roof', 25.0), ('Cook', 79.69), ('Drought', 60.94), ('Pop', 40.62), ('Livestock', 34.38), ('Agri', 53.12)]\n",
      "Epoch: 1, T.Loss: 18.046, Accs: [('$', 25.0), ('Water', 39.06), ('Toilet', 53.12), ('Roof', 32.81), ('Cook', 67.19), ('Drought', 59.38), ('Pop', 51.56), ('Livestock', 46.88), ('Agri', 59.38)]\n",
      "Epoch: 1, T.Loss: 17.239, Accs: [('$', 34.38), ('Water', 43.75), ('Toilet', 54.69), ('Roof', 34.38), ('Cook', 62.5), ('Drought', 67.19), ('Pop', 40.62), ('Livestock', 43.75), ('Agri', 45.31)]\n",
      "Epoch: 1, T.Loss: 17.037, Accs: [('$', 39.06), ('Water', 46.88), ('Toilet', 60.94), ('Roof', 28.12), ('Cook', 68.75), ('Drought', 62.5), ('Pop', 48.44), ('Livestock', 43.75), ('Agri', 43.75)]\n",
      "Epoch: 1, T.Loss: 16.352, Accs: [('$', 35.94), ('Water', 56.25), ('Toilet', 60.94), ('Roof', 29.69), ('Cook', 67.19), ('Drought', 70.31), ('Pop', 46.88), ('Livestock', 45.31), ('Agri', 51.56)]\n",
      "Epoch: 1, T.Loss: 16.872, Accs: [('$', 28.12), ('Water', 48.44), ('Toilet', 54.69), ('Roof', 28.12), ('Cook', 59.38), ('Drought', 59.38), ('Pop', 28.12), ('Livestock', 45.31), ('Agri', 56.25)]\n",
      "Epoch: 1, T.Loss: 18.196, Accs: [('$', 40.62), ('Water', 57.81), ('Toilet', 56.25), ('Roof', 34.38), ('Cook', 60.94), ('Drought', 60.94), ('Pop', 34.38), ('Livestock', 53.12), ('Agri', 51.56)]\n",
      "Epoch: 1, T.Loss: 17.132, Accs: [('$', 32.81), ('Water', 46.88), ('Toilet', 53.12), ('Roof', 35.94), ('Cook', 67.19), ('Drought', 60.94), ('Pop', 50.0), ('Livestock', 37.5), ('Agri', 50.0)]\n",
      "Epoch: 1, T.Loss: 17.640, Accs: [('$', 35.94), ('Water', 46.88), ('Toilet', 50.0), ('Roof', 26.56), ('Cook', 70.31), ('Drought', 48.44), ('Pop', 51.56), ('Livestock', 48.44), ('Agri', 40.62)]\n",
      "Epoch: 1, T.Loss: 16.107, Accs: [('$', 34.38), ('Water', 53.12), ('Toilet', 67.19), ('Roof', 39.06), ('Cook', 73.44), ('Drought', 73.44), ('Pop', 51.56), ('Livestock', 42.19), ('Agri', 56.25)]\n"
     ]
    },
    {
     "name": "stdout",
     "output_type": "stream",
     "text": [
      "Epoch: 1, T.Loss: 17.105, Accs: [('$', 40.62), ('Water', 45.31), ('Toilet', 54.69), ('Roof', 28.12), ('Cook', 79.69), ('Drought', 57.81), ('Pop', 48.44), ('Livestock', 48.44), ('Agri', 45.31)]\n",
      "Epoch: 1, T.Loss: 16.911, Accs: [('$', 39.06), ('Water', 57.81), ('Toilet', 54.69), ('Roof', 32.81), ('Cook', 65.62), ('Drought', 76.56), ('Pop', 50.0), ('Livestock', 50.0), ('Agri', 46.88)]\n",
      "Epoch: 1, T.Loss: 17.124, Accs: [('$', 35.94), ('Water', 45.31), ('Toilet', 51.56), ('Roof', 28.12), ('Cook', 68.75), ('Drought', 57.81), ('Pop', 45.31), ('Livestock', 45.31), ('Agri', 54.69)]\n",
      "Epoch: 1, T.Loss: 18.065, Accs: [('$', 23.44), ('Water', 40.62), ('Toilet', 43.75), ('Roof', 39.06), ('Cook', 64.06), ('Drought', 51.56), ('Pop', 43.75), ('Livestock', 45.31), ('Agri', 50.0)]\n",
      "Epoch: 1, T.Loss: 16.255, Accs: [('$', 25.0), ('Water', 57.81), ('Toilet', 60.94), ('Roof', 37.5), ('Cook', 71.88), ('Drought', 59.38), ('Pop', 42.19), ('Livestock', 54.69), ('Agri', 57.81)]\n",
      "Epoch: 1, T.Loss: 16.068, Accs: [('$', 25.0), ('Water', 57.81), ('Toilet', 57.81), ('Roof', 29.69), ('Cook', 79.69), ('Drought', 62.5), ('Pop', 45.31), ('Livestock', 35.94), ('Agri', 37.5)]\n",
      "Epoch: 1, T.Loss: 15.831, Accs: [('$', 34.38), ('Water', 54.69), ('Toilet', 59.38), ('Roof', 34.38), ('Cook', 73.44), ('Drought', 67.19), ('Pop', 37.5), ('Livestock', 48.44), ('Agri', 51.56)]\n",
      "Epoch: 1, T.Loss: 16.640, Accs: [('$', 32.81), ('Water', 51.56), ('Toilet', 48.44), ('Roof', 29.69), ('Cook', 75.0), ('Drought', 50.0), ('Pop', 54.69), ('Livestock', 45.31), ('Agri', 43.75)]\n",
      "Epoch: 1, T.Loss: 17.216, Accs: [('$', 39.06), ('Water', 51.56), ('Toilet', 46.88), ('Roof', 23.44), ('Cook', 68.75), ('Drought', 62.5), ('Pop', 57.81), ('Livestock', 48.44), ('Agri', 50.0)]\n",
      "Epoch: 1, T.Loss: 17.482, Accs: [('$', 39.06), ('Water', 59.38), ('Toilet', 35.94), ('Roof', 35.94), ('Cook', 57.81), ('Drought', 59.38), ('Pop', 46.88), ('Livestock', 45.31), ('Agri', 43.75)]\n",
      "Epoch: 1, T.Loss: 16.623, Accs: [('$', 35.94), ('Water', 45.31), ('Toilet', 50.0), ('Roof', 42.19), ('Cook', 76.56), ('Drought', 57.81), ('Pop', 48.44), ('Livestock', 56.25), ('Agri', 39.06)]\n",
      "Epoch: 1, T.Loss: 16.819, Accs: [('$', 34.38), ('Water', 51.56), ('Toilet', 60.94), ('Roof', 31.25), ('Cook', 68.75), ('Drought', 60.94), ('Pop', 35.94), ('Livestock', 43.75), ('Agri', 40.62)]\n",
      "Epoch: 1, T.Loss: 16.514, Accs: [('$', 35.94), ('Water', 54.69), ('Toilet', 62.5), ('Roof', 31.25), ('Cook', 70.31), ('Drought', 79.69), ('Pop', 37.5), ('Livestock', 43.75), ('Agri', 42.19)]\n",
      "Epoch: 1, T.Loss: 15.974, Accs: [('$', 54.69), ('Water', 56.25), ('Toilet', 60.94), ('Roof', 28.12), ('Cook', 79.69), ('Drought', 60.94), ('Pop', 42.19), ('Livestock', 53.12), ('Agri', 46.88)]\n",
      "Epoch: 1, T.Loss: 16.557, Accs: [('$', 46.88), ('Water', 54.69), ('Toilet', 57.81), ('Roof', 34.38), ('Cook', 65.62), ('Drought', 64.06), ('Pop', 48.44), ('Livestock', 48.44), ('Agri', 42.19)]\n",
      "Epoch: 1, T.Loss: 19.737, Accs: [('$', 0.0), ('Water', 0.0), ('Toilet', 33.33), ('Roof', 66.67), ('Cook', 66.67), ('Drought', 33.33), ('Pop', 100.0), ('Livestock', 66.67), ('Agri', 33.33)]\n",
      "Epoch: 1, V.Loss: 16.887, Accs: [('$', 36.24), ('Water', 51.26), ('Toilet', 57.23), ('Roof', 31.53), ('Cook', 69.08), ('Drought', 63.76), ('Pop', 42.67), ('Livestock', 44.78), ('Agri', 46.03)]\n"
     ]
    }
   ],
   "source": [
    "learn.wrapper.partial_freeze_features(pct=0.5)\n",
    "learn.fit(2, 1e-1, db, opt_fn)"
   ]
  },
  {
   "cell_type": "code",
   "execution_count": 29,
   "metadata": {},
   "outputs": [
    {
     "name": "stdout",
     "output_type": "stream",
     "text": [
      "Epoch: 0, T.Loss: 16.717, Accs: [('$', 43.75), ('Water', 43.75), ('Toilet', 54.69), ('Roof', 34.38), ('Cook', 71.88), ('Drought', 53.12), ('Pop', 40.62), ('Livestock', 53.12), ('Agri', 53.12)]\n",
      "Epoch: 0, T.Loss: 16.911, Accs: [('$', 43.75), ('Water', 46.88), ('Toilet', 53.12), ('Roof', 20.31), ('Cook', 68.75), ('Drought', 60.94), ('Pop', 34.38), ('Livestock', 43.75), ('Agri', 46.88)]\n",
      "Epoch: 0, T.Loss: 16.618, Accs: [('$', 46.88), ('Water', 64.06), ('Toilet', 62.5), ('Roof', 34.38), ('Cook', 76.56), ('Drought', 60.94), ('Pop', 39.06), ('Livestock', 54.69), ('Agri', 54.69)]\n",
      "Epoch: 0, T.Loss: 17.651, Accs: [('$', 29.69), ('Water', 42.19), ('Toilet', 51.56), ('Roof', 29.69), ('Cook', 57.81), ('Drought', 56.25), ('Pop', 42.19), ('Livestock', 45.31), ('Agri', 53.12)]\n",
      "Epoch: 0, T.Loss: 16.361, Accs: [('$', 40.62), ('Water', 50.0), ('Toilet', 56.25), ('Roof', 28.12), ('Cook', 71.88), ('Drought', 68.75), ('Pop', 53.12), ('Livestock', 40.62), ('Agri', 43.75)]\n",
      "Epoch: 0, T.Loss: 17.632, Accs: [('$', 37.5), ('Water', 35.94), ('Toilet', 56.25), ('Roof', 28.12), ('Cook', 62.5), ('Drought', 64.06), ('Pop', 39.06), ('Livestock', 53.12), ('Agri', 46.88)]\n",
      "Epoch: 0, T.Loss: 18.308, Accs: [('$', 34.38), ('Water', 53.12), ('Toilet', 56.25), ('Roof', 31.25), ('Cook', 65.62), ('Drought', 75.0), ('Pop', 45.31), ('Livestock', 40.62), ('Agri', 39.06)]\n",
      "Epoch: 0, T.Loss: 17.801, Accs: [('$', 23.44), ('Water', 40.62), ('Toilet', 50.0), ('Roof', 39.06), ('Cook', 65.62), ('Drought', 53.12), ('Pop', 51.56), ('Livestock', 37.5), ('Agri', 40.62)]\n",
      "Epoch: 0, T.Loss: 18.671, Accs: [('$', 31.25), ('Water', 40.62), ('Toilet', 45.31), ('Roof', 23.44), ('Cook', 65.62), ('Drought', 64.06), ('Pop', 45.31), ('Livestock', 48.44), ('Agri', 40.62)]\n",
      "Epoch: 0, T.Loss: 17.661, Accs: [('$', 34.38), ('Water', 37.5), ('Toilet', 51.56), ('Roof', 32.81), ('Cook', 70.31), ('Drought', 57.81), ('Pop', 45.31), ('Livestock', 45.31), ('Agri', 53.12)]\n",
      "Epoch: 0, T.Loss: 16.625, Accs: [('$', 45.31), ('Water', 50.0), ('Toilet', 56.25), ('Roof', 29.69), ('Cook', 76.56), ('Drought', 57.81), ('Pop', 40.62), ('Livestock', 51.56), ('Agri', 45.31)]\n",
      "Epoch: 0, T.Loss: 16.710, Accs: [('$', 39.06), ('Water', 57.81), ('Toilet', 65.62), ('Roof', 25.0), ('Cook', 67.19), ('Drought', 56.25), ('Pop', 37.5), ('Livestock', 45.31), ('Agri', 46.88)]\n",
      "Epoch: 0, T.Loss: 17.612, Accs: [('$', 45.31), ('Water', 40.62), ('Toilet', 51.56), ('Roof', 18.75), ('Cook', 70.31), ('Drought', 46.88), ('Pop', 40.62), ('Livestock', 48.44), ('Agri', 35.94)]\n",
      "Epoch: 0, T.Loss: 17.757, Accs: [('$', 34.38), ('Water', 48.44), ('Toilet', 48.44), ('Roof', 31.25), ('Cook', 65.62), ('Drought', 71.88), ('Pop', 39.06), ('Livestock', 40.62), ('Agri', 37.5)]\n",
      "Epoch: 0, T.Loss: 17.396, Accs: [('$', 32.81), ('Water', 43.75), ('Toilet', 40.62), ('Roof', 42.19), ('Cook', 64.06), ('Drought', 65.62), ('Pop', 46.88), ('Livestock', 37.5), ('Agri', 46.88)]\n",
      "Epoch: 0, T.Loss: 17.615, Accs: [('$', 37.5), ('Water', 46.88), ('Toilet', 60.94), ('Roof', 32.81), ('Cook', 64.06), ('Drought', 59.38), ('Pop', 29.69), ('Livestock', 42.19), ('Agri', 46.88)]\n",
      "Epoch: 0, T.Loss: 17.272, Accs: [('$', 32.81), ('Water', 53.12), ('Toilet', 56.25), ('Roof', 31.25), ('Cook', 65.62), ('Drought', 56.25), ('Pop', 45.31), ('Livestock', 51.56), ('Agri', 50.0)]\n",
      "Epoch: 0, T.Loss: 16.957, Accs: [('$', 32.81), ('Water', 45.31), ('Toilet', 51.56), ('Roof', 28.12), ('Cook', 73.44), ('Drought', 51.56), ('Pop', 42.19), ('Livestock', 42.19), ('Agri', 43.75)]\n",
      "Epoch: 0, T.Loss: 17.065, Accs: [('$', 39.06), ('Water', 57.81), ('Toilet', 59.38), ('Roof', 40.62), ('Cook', 60.94), ('Drought', 64.06), ('Pop', 29.69), ('Livestock', 39.06), ('Agri', 50.0)]\n",
      "Epoch: 0, T.Loss: 16.603, Accs: [('$', 35.94), ('Water', 51.56), ('Toilet', 57.81), ('Roof', 35.94), ('Cook', 70.31), ('Drought', 65.62), ('Pop', 48.44), ('Livestock', 45.31), ('Agri', 45.31)]\n",
      "Epoch: 0, T.Loss: 16.418, Accs: [('$', 40.62), ('Water', 50.0), ('Toilet', 64.06), ('Roof', 26.56), ('Cook', 62.5), ('Drought', 57.81), ('Pop', 39.06), ('Livestock', 51.56), ('Agri', 54.69)]\n",
      "Epoch: 0, T.Loss: 16.444, Accs: [('$', 40.62), ('Water', 48.44), ('Toilet', 50.0), ('Roof', 39.06), ('Cook', 67.19), ('Drought', 65.62), ('Pop', 43.75), ('Livestock', 40.62), ('Agri', 42.19)]\n",
      "Epoch: 0, T.Loss: 16.459, Accs: [('$', 35.94), ('Water', 56.25), ('Toilet', 67.19), ('Roof', 29.69), ('Cook', 73.44), ('Drought', 56.25), ('Pop', 34.38), ('Livestock', 46.88), ('Agri', 40.62)]\n",
      "Epoch: 0, T.Loss: 17.010, Accs: [('$', 31.25), ('Water', 57.81), ('Toilet', 54.69), ('Roof', 31.25), ('Cook', 71.88), ('Drought', 60.94), ('Pop', 40.62), ('Livestock', 51.56), ('Agri', 46.88)]\n",
      "Epoch: 0, T.Loss: 16.940, Accs: [('$', 43.75), ('Water', 43.75), ('Toilet', 54.69), ('Roof', 39.06), ('Cook', 78.12), ('Drought', 53.12), ('Pop', 46.88), ('Livestock', 51.56), ('Agri', 39.06)]\n",
      "Epoch: 0, T.Loss: 16.144, Accs: [('$', 29.69), ('Water', 54.69), ('Toilet', 56.25), ('Roof', 40.62), ('Cook', 73.44), ('Drought', 75.0), ('Pop', 43.75), ('Livestock', 42.19), ('Agri', 56.25)]\n",
      "Epoch: 0, T.Loss: 17.081, Accs: [('$', 29.69), ('Water', 50.0), ('Toilet', 64.06), ('Roof', 34.38), ('Cook', 67.19), ('Drought', 62.5), ('Pop', 46.88), ('Livestock', 48.44), ('Agri', 42.19)]\n",
      "Epoch: 0, T.Loss: 16.911, Accs: [('$', 40.62), ('Water', 48.44), ('Toilet', 60.94), ('Roof', 31.25), ('Cook', 65.62), ('Drought', 59.38), ('Pop', 39.06), ('Livestock', 42.19), ('Agri', 46.88)]\n",
      "Epoch: 0, T.Loss: 19.912, Accs: [('$', 0.0), ('Water', 33.33), ('Toilet', 33.33), ('Roof', 0.0), ('Cook', 66.67), ('Drought', 66.67), ('Pop', 66.67), ('Livestock', 33.33), ('Agri', 66.67)]\n",
      "Epoch: 0, V.Loss: 16.731, Accs: [('$', 36.09), ('Water', 51.26), ('Toilet', 57.23), ('Roof', 34.49), ('Cook', 69.08), ('Drought', 63.76), ('Pop', 42.67), ('Livestock', 45.48), ('Agri', 46.03)]\n",
      "Epoch: 1, T.Loss: 16.740, Accs: [('$', 42.19), ('Water', 46.88), ('Toilet', 54.69), ('Roof', 28.12), ('Cook', 73.44), ('Drought', 54.69), ('Pop', 46.88), ('Livestock', 50.0), ('Agri', 51.56)]\n",
      "Epoch: 1, T.Loss: 17.072, Accs: [('$', 35.94), ('Water', 56.25), ('Toilet', 60.94), ('Roof', 37.5), ('Cook', 65.62), ('Drought', 60.94), ('Pop', 45.31), ('Livestock', 42.19), ('Agri', 59.38)]\n",
      "Epoch: 1, T.Loss: 17.002, Accs: [('$', 28.12), ('Water', 48.44), ('Toilet', 65.62), ('Roof', 23.44), ('Cook', 65.62), ('Drought', 68.75), ('Pop', 40.62), ('Livestock', 42.19), ('Agri', 46.88)]\n",
      "Epoch: 1, T.Loss: 16.937, Accs: [('$', 35.94), ('Water', 46.88), ('Toilet', 48.44), ('Roof', 39.06), ('Cook', 71.88), ('Drought', 60.94), ('Pop', 32.81), ('Livestock', 50.0), ('Agri', 48.44)]\n",
      "Epoch: 1, T.Loss: 17.024, Accs: [('$', 26.56), ('Water', 51.56), ('Toilet', 56.25), ('Roof', 37.5), ('Cook', 64.06), ('Drought', 50.0), ('Pop', 46.88), ('Livestock', 50.0), ('Agri', 53.12)]\n",
      "Epoch: 1, T.Loss: 16.476, Accs: [('$', 40.62), ('Water', 56.25), ('Toilet', 48.44), ('Roof', 28.12), ('Cook', 70.31), ('Drought', 68.75), ('Pop', 40.62), ('Livestock', 46.88), ('Agri', 50.0)]\n",
      "Epoch: 1, T.Loss: 16.759, Accs: [('$', 43.75), ('Water', 57.81), ('Toilet', 53.12), ('Roof', 42.19), ('Cook', 68.75), ('Drought', 70.31), ('Pop', 56.25), ('Livestock', 46.88), ('Agri', 57.81)]\n",
      "Epoch: 1, T.Loss: 16.279, Accs: [('$', 43.75), ('Water', 53.12), ('Toilet', 67.19), ('Roof', 32.81), ('Cook', 65.62), ('Drought', 57.81), ('Pop', 45.31), ('Livestock', 43.75), ('Agri', 37.5)]\n",
      "Epoch: 1, T.Loss: 15.563, Accs: [('$', 46.88), ('Water', 65.62), ('Toilet', 68.75), ('Roof', 21.88), ('Cook', 75.0), ('Drought', 68.75), ('Pop', 48.44), ('Livestock', 48.44), ('Agri', 53.12)]\n",
      "Epoch: 1, T.Loss: 17.014, Accs: [('$', 39.06), ('Water', 48.44), ('Toilet', 46.88), ('Roof', 31.25), ('Cook', 70.31), ('Drought', 64.06), ('Pop', 39.06), ('Livestock', 45.31), ('Agri', 42.19)]\n",
      "Epoch: 1, T.Loss: 17.177, Accs: [('$', 26.56), ('Water', 50.0), ('Toilet', 56.25), ('Roof', 35.94), ('Cook', 64.06), ('Drought', 68.75), ('Pop', 48.44), ('Livestock', 48.44), ('Agri', 53.12)]\n",
      "Epoch: 1, T.Loss: 16.290, Accs: [('$', 53.12), ('Water', 53.12), ('Toilet', 54.69), ('Roof', 32.81), ('Cook', 76.56), ('Drought', 68.75), ('Pop', 42.19), ('Livestock', 48.44), ('Agri', 48.44)]\n",
      "Epoch: 1, T.Loss: 16.937, Accs: [('$', 40.62), ('Water', 48.44), ('Toilet', 56.25), ('Roof', 18.75), ('Cook', 78.12), ('Drought', 62.5), ('Pop', 51.56), ('Livestock', 50.0), ('Agri', 54.69)]\n"
     ]
    },
    {
     "name": "stdout",
     "output_type": "stream",
     "text": [
      "Epoch: 1, T.Loss: 16.303, Accs: [('$', 29.69), ('Water', 46.88), ('Toilet', 67.19), ('Roof', 37.5), ('Cook', 85.94), ('Drought', 57.81), ('Pop', 35.94), ('Livestock', 48.44), ('Agri', 51.56)]\n",
      "Epoch: 1, T.Loss: 16.740, Accs: [('$', 28.12), ('Water', 50.0), ('Toilet', 57.81), ('Roof', 35.94), ('Cook', 68.75), ('Drought', 57.81), ('Pop', 48.44), ('Livestock', 42.19), ('Agri', 43.75)]\n",
      "Epoch: 1, T.Loss: 16.756, Accs: [('$', 43.75), ('Water', 57.81), ('Toilet', 67.19), ('Roof', 29.69), ('Cook', 60.94), ('Drought', 62.5), ('Pop', 50.0), ('Livestock', 54.69), ('Agri', 53.12)]\n",
      "Epoch: 1, T.Loss: 16.498, Accs: [('$', 46.88), ('Water', 48.44), ('Toilet', 56.25), ('Roof', 26.56), ('Cook', 71.88), ('Drought', 60.94), ('Pop', 40.62), ('Livestock', 48.44), ('Agri', 48.44)]\n",
      "Epoch: 1, T.Loss: 17.048, Accs: [('$', 32.81), ('Water', 53.12), ('Toilet', 57.81), ('Roof', 32.81), ('Cook', 65.62), ('Drought', 65.62), ('Pop', 46.88), ('Livestock', 39.06), ('Agri', 59.38)]\n",
      "Epoch: 1, T.Loss: 16.407, Accs: [('$', 32.81), ('Water', 51.56), ('Toilet', 64.06), ('Roof', 37.5), ('Cook', 65.62), ('Drought', 67.19), ('Pop', 50.0), ('Livestock', 45.31), ('Agri', 48.44)]\n",
      "Epoch: 1, T.Loss: 17.432, Accs: [('$', 34.38), ('Water', 57.81), ('Toilet', 60.94), ('Roof', 26.56), ('Cook', 67.19), ('Drought', 71.88), ('Pop', 53.12), ('Livestock', 50.0), ('Agri', 48.44)]\n",
      "Epoch: 1, T.Loss: 16.632, Accs: [('$', 29.69), ('Water', 50.0), ('Toilet', 57.81), ('Roof', 32.81), ('Cook', 71.88), ('Drought', 62.5), ('Pop', 57.81), ('Livestock', 51.56), ('Agri', 39.06)]\n",
      "Epoch: 1, T.Loss: 17.182, Accs: [('$', 39.06), ('Water', 48.44), ('Toilet', 51.56), ('Roof', 18.75), ('Cook', 73.44), ('Drought', 57.81), ('Pop', 32.81), ('Livestock', 43.75), ('Agri', 46.88)]\n",
      "Epoch: 1, T.Loss: 16.549, Accs: [('$', 35.94), ('Water', 56.25), ('Toilet', 57.81), ('Roof', 29.69), ('Cook', 70.31), ('Drought', 71.88), ('Pop', 40.62), ('Livestock', 42.19), ('Agri', 62.5)]\n",
      "Epoch: 1, T.Loss: 17.285, Accs: [('$', 34.38), ('Water', 42.19), ('Toilet', 45.31), ('Roof', 32.81), ('Cook', 75.0), ('Drought', 62.5), ('Pop', 37.5), ('Livestock', 48.44), ('Agri', 42.19)]\n",
      "Epoch: 1, T.Loss: 16.496, Accs: [('$', 35.94), ('Water', 53.12), ('Toilet', 56.25), ('Roof', 40.62), ('Cook', 67.19), ('Drought', 60.94), ('Pop', 43.75), ('Livestock', 43.75), ('Agri', 46.88)]\n",
      "Epoch: 1, T.Loss: 17.691, Accs: [('$', 37.5), ('Water', 40.62), ('Toilet', 46.88), ('Roof', 40.62), ('Cook', 59.38), ('Drought', 50.0), ('Pop', 35.94), ('Livestock', 51.56), ('Agri', 46.88)]\n",
      "Epoch: 1, T.Loss: 16.554, Accs: [('$', 42.19), ('Water', 48.44), ('Toilet', 57.81), ('Roof', 20.31), ('Cook', 71.88), ('Drought', 65.62), ('Pop', 50.0), ('Livestock', 50.0), ('Agri', 57.81)]\n",
      "Epoch: 1, T.Loss: 17.529, Accs: [('$', 29.69), ('Water', 57.81), ('Toilet', 50.0), ('Roof', 34.38), ('Cook', 60.94), ('Drought', 48.44), ('Pop', 32.81), ('Livestock', 51.56), ('Agri', 46.88)]\n",
      "Epoch: 1, T.Loss: 15.327, Accs: [('$', 33.33), ('Water', 33.33), ('Toilet', 66.67), ('Roof', 33.33), ('Cook', 66.67), ('Drought', 66.67), ('Pop', 66.67), ('Livestock', 33.33), ('Agri', 100.0)]\n",
      "Epoch: 1, V.Loss: 16.625, Accs: [('$', 36.04), ('Water', 51.26), ('Toilet', 57.23), ('Roof', 37.1), ('Cook', 69.08), ('Drought', 63.76), ('Pop', 42.82), ('Livestock', 45.58), ('Agri', 46.03)]\n"
     ]
    }
   ],
   "source": [
    "learn.wrapper.freeze_features(False)\n",
    "learn.fit(2, 1e-2, db, opt_fn)"
   ]
  },
  {
   "cell_type": "code",
   "execution_count": 33,
   "metadata": {},
   "outputs": [],
   "source": [
    "db = get_data(img_sz=224, bs=64)"
   ]
  },
  {
   "cell_type": "code",
   "execution_count": 34,
   "metadata": {},
   "outputs": [
    {
     "name": "stdout",
     "output_type": "stream",
     "text": [
      "Epoch: 0, T.Loss: 17.319, Accs: [('$', 40.62), ('Water', 53.12), ('Toilet', 60.94), ('Roof', 34.38), ('Cook', 67.19), ('Drought', 67.19), ('Pop', 40.62), ('Livestock', 50.0), ('Agri', 48.44)]\n",
      "Epoch: 0, T.Loss: 17.829, Accs: [('$', 31.25), ('Water', 42.19), ('Toilet', 50.0), ('Roof', 26.56), ('Cook', 67.19), ('Drought', 60.94), ('Pop', 53.12), ('Livestock', 46.88), ('Agri', 53.12)]\n",
      "Epoch: 0, T.Loss: 17.113, Accs: [('$', 34.38), ('Water', 39.06), ('Toilet', 59.38), ('Roof', 20.31), ('Cook', 79.69), ('Drought', 57.81), ('Pop', 54.69), ('Livestock', 43.75), ('Agri', 54.69)]\n",
      "Epoch: 0, T.Loss: 18.271, Accs: [('$', 26.56), ('Water', 45.31), ('Toilet', 51.56), ('Roof', 35.94), ('Cook', 67.19), ('Drought', 56.25), ('Pop', 40.62), ('Livestock', 39.06), ('Agri', 43.75)]\n",
      "Epoch: 0, T.Loss: 18.045, Accs: [('$', 37.5), ('Water', 45.31), ('Toilet', 56.25), ('Roof', 35.94), ('Cook', 59.38), ('Drought', 60.94), ('Pop', 37.5), ('Livestock', 42.19), ('Agri', 45.31)]\n",
      "Epoch: 0, T.Loss: 17.105, Accs: [('$', 34.38), ('Water', 56.25), ('Toilet', 64.06), ('Roof', 28.12), ('Cook', 68.75), ('Drought', 57.81), ('Pop', 42.19), ('Livestock', 48.44), ('Agri', 48.44)]\n",
      "Epoch: 0, T.Loss: 17.709, Accs: [('$', 37.5), ('Water', 46.88), ('Toilet', 51.56), ('Roof', 29.69), ('Cook', 64.06), ('Drought', 60.94), ('Pop', 43.75), ('Livestock', 40.62), ('Agri', 53.12)]\n",
      "Epoch: 0, T.Loss: 17.359, Accs: [('$', 45.31), ('Water', 51.56), ('Toilet', 50.0), ('Roof', 35.94), ('Cook', 65.62), ('Drought', 59.38), ('Pop', 31.25), ('Livestock', 42.19), ('Agri', 46.88)]\n",
      "Epoch: 0, T.Loss: 17.303, Accs: [('$', 34.38), ('Water', 42.19), ('Toilet', 64.06), ('Roof', 26.56), ('Cook', 75.0), ('Drought', 59.38), ('Pop', 40.62), ('Livestock', 37.5), ('Agri', 42.19)]\n",
      "Epoch: 0, T.Loss: 16.674, Accs: [('$', 42.19), ('Water', 54.69), ('Toilet', 65.62), ('Roof', 37.5), ('Cook', 76.56), ('Drought', 65.62), ('Pop', 37.5), ('Livestock', 42.19), ('Agri', 43.75)]\n",
      "Epoch: 0, T.Loss: 17.397, Accs: [('$', 31.25), ('Water', 42.19), ('Toilet', 56.25), ('Roof', 28.12), ('Cook', 76.56), ('Drought', 64.06), ('Pop', 46.88), ('Livestock', 46.88), ('Agri', 56.25)]\n",
      "Epoch: 0, T.Loss: 17.567, Accs: [('$', 31.25), ('Water', 51.56), ('Toilet', 56.25), ('Roof', 31.25), ('Cook', 64.06), ('Drought', 57.81), ('Pop', 34.38), ('Livestock', 42.19), ('Agri', 48.44)]\n",
      "Epoch: 0, T.Loss: 18.132, Accs: [('$', 28.12), ('Water', 43.75), ('Toilet', 48.44), ('Roof', 39.06), ('Cook', 71.88), ('Drought', 64.06), ('Pop', 45.31), ('Livestock', 37.5), ('Agri', 43.75)]\n",
      "Epoch: 0, T.Loss: 17.748, Accs: [('$', 29.69), ('Water', 56.25), ('Toilet', 59.38), ('Roof', 34.38), ('Cook', 64.06), ('Drought', 64.06), ('Pop', 40.62), ('Livestock', 45.31), ('Agri', 54.69)]\n",
      "Epoch: 0, T.Loss: 17.212, Accs: [('$', 39.06), ('Water', 56.25), ('Toilet', 59.38), ('Roof', 32.81), ('Cook', 68.75), ('Drought', 75.0), ('Pop', 43.75), ('Livestock', 51.56), ('Agri', 39.06)]\n",
      "Epoch: 0, T.Loss: 17.800, Accs: [('$', 31.25), ('Water', 42.19), ('Toilet', 45.31), ('Roof', 28.12), ('Cook', 65.62), ('Drought', 64.06), ('Pop', 48.44), ('Livestock', 46.88), ('Agri', 46.88)]\n",
      "Epoch: 0, T.Loss: 17.002, Accs: [('$', 37.5), ('Water', 56.25), ('Toilet', 54.69), ('Roof', 25.0), ('Cook', 71.88), ('Drought', 67.19), ('Pop', 56.25), ('Livestock', 46.88), ('Agri', 53.12)]\n",
      "Epoch: 0, T.Loss: 17.406, Accs: [('$', 31.25), ('Water', 59.38), ('Toilet', 60.94), ('Roof', 37.5), ('Cook', 70.31), ('Drought', 67.19), ('Pop', 39.06), ('Livestock', 35.94), ('Agri', 45.31)]\n",
      "Epoch: 0, T.Loss: 16.916, Accs: [('$', 42.19), ('Water', 54.69), ('Toilet', 57.81), ('Roof', 37.5), ('Cook', 67.19), ('Drought', 67.19), ('Pop', 45.31), ('Livestock', 43.75), ('Agri', 53.12)]\n",
      "Epoch: 0, T.Loss: 18.107, Accs: [('$', 43.75), ('Water', 43.75), ('Toilet', 59.38), ('Roof', 26.56), ('Cook', 60.94), ('Drought', 51.56), ('Pop', 42.19), ('Livestock', 45.31), ('Agri', 50.0)]\n",
      "Epoch: 0, T.Loss: 16.884, Accs: [('$', 39.06), ('Water', 54.69), ('Toilet', 59.38), ('Roof', 29.69), ('Cook', 65.62), ('Drought', 67.19), ('Pop', 51.56), ('Livestock', 48.44), ('Agri', 48.44)]\n",
      "Epoch: 0, T.Loss: 16.923, Accs: [('$', 39.06), ('Water', 51.56), ('Toilet', 56.25), ('Roof', 29.69), ('Cook', 71.88), ('Drought', 64.06), ('Pop', 43.75), ('Livestock', 46.88), ('Agri', 39.06)]\n",
      "Epoch: 0, T.Loss: 17.505, Accs: [('$', 28.12), ('Water', 56.25), ('Toilet', 62.5), ('Roof', 28.12), ('Cook', 75.0), ('Drought', 70.31), ('Pop', 50.0), ('Livestock', 45.31), ('Agri', 45.31)]\n",
      "Epoch: 0, T.Loss: 17.954, Accs: [('$', 34.38), ('Water', 56.25), ('Toilet', 48.44), ('Roof', 32.81), ('Cook', 64.06), ('Drought', 60.94), ('Pop', 35.94), ('Livestock', 45.31), ('Agri', 48.44)]\n",
      "Epoch: 0, T.Loss: 16.716, Accs: [('$', 46.88), ('Water', 51.56), ('Toilet', 51.56), ('Roof', 21.88), ('Cook', 70.31), ('Drought', 57.81), ('Pop', 50.0), ('Livestock', 50.0), ('Agri', 43.75)]\n",
      "Epoch: 0, T.Loss: 18.369, Accs: [('$', 31.25), ('Water', 45.31), ('Toilet', 40.62), ('Roof', 39.06), ('Cook', 60.94), ('Drought', 62.5), ('Pop', 43.75), ('Livestock', 40.62), ('Agri', 48.44)]\n",
      "Epoch: 0, T.Loss: 17.297, Accs: [('$', 40.62), ('Water', 42.19), ('Toilet', 59.38), ('Roof', 29.69), ('Cook', 75.0), ('Drought', 59.38), ('Pop', 40.62), ('Livestock', 39.06), ('Agri', 45.31)]\n",
      "Epoch: 0, T.Loss: 18.225, Accs: [('$', 31.25), ('Water', 46.88), ('Toilet', 51.56), ('Roof', 31.25), ('Cook', 62.5), ('Drought', 59.38), ('Pop', 46.88), ('Livestock', 37.5), ('Agri', 59.38)]\n",
      "Epoch: 0, T.Loss: 17.638, Accs: [('$', 33.33), ('Water', 33.33), ('Toilet', 66.67), ('Roof', 33.33), ('Cook', 66.67), ('Drought', 33.33), ('Pop', 66.67), ('Livestock', 0.0), ('Agri', 66.67)]\n",
      "Epoch: 0, V.Loss: 17.315, Accs: [('$', 36.09), ('Water', 51.26), ('Toilet', 57.23), ('Roof', 31.17), ('Cook', 69.08), ('Drought', 63.76), ('Pop', 42.67), ('Livestock', 44.78), ('Agri', 46.03)]\n",
      "Epoch: 1, T.Loss: 17.849, Accs: [('$', 34.38), ('Water', 54.69), ('Toilet', 60.94), ('Roof', 34.38), ('Cook', 62.5), ('Drought', 60.94), ('Pop', 37.5), ('Livestock', 42.19), ('Agri', 43.75)]\n",
      "Epoch: 1, T.Loss: 16.813, Accs: [('$', 31.25), ('Water', 50.0), ('Toilet', 64.06), ('Roof', 28.12), ('Cook', 67.19), ('Drought', 59.38), ('Pop', 40.62), ('Livestock', 50.0), ('Agri', 60.94)]\n",
      "Epoch: 1, T.Loss: 17.754, Accs: [('$', 31.25), ('Water', 53.12), ('Toilet', 54.69), ('Roof', 37.5), ('Cook', 60.94), ('Drought', 57.81), ('Pop', 37.5), ('Livestock', 51.56), ('Agri', 40.62)]\n",
      "Epoch: 1, T.Loss: 16.533, Accs: [('$', 50.0), ('Water', 42.19), ('Toilet', 57.81), ('Roof', 42.19), ('Cook', 79.69), ('Drought', 65.62), ('Pop', 46.88), ('Livestock', 50.0), ('Agri', 50.0)]\n",
      "Epoch: 1, T.Loss: 18.061, Accs: [('$', 37.5), ('Water', 45.31), ('Toilet', 46.88), ('Roof', 28.12), ('Cook', 62.5), ('Drought', 54.69), ('Pop', 42.19), ('Livestock', 39.06), ('Agri', 37.5)]\n",
      "Epoch: 1, T.Loss: 17.606, Accs: [('$', 28.12), ('Water', 53.12), ('Toilet', 54.69), ('Roof', 35.94), ('Cook', 56.25), ('Drought', 57.81), ('Pop', 39.06), ('Livestock', 39.06), ('Agri', 62.5)]\n",
      "Epoch: 1, T.Loss: 17.260, Accs: [('$', 39.06), ('Water', 45.31), ('Toilet', 59.38), ('Roof', 26.56), ('Cook', 67.19), ('Drought', 46.88), ('Pop', 40.62), ('Livestock', 45.31), ('Agri', 45.31)]\n",
      "Epoch: 1, T.Loss: 17.397, Accs: [('$', 29.69), ('Water', 46.88), ('Toilet', 57.81), ('Roof', 40.62), ('Cook', 70.31), ('Drought', 59.38), ('Pop', 35.94), ('Livestock', 51.56), ('Agri', 46.88)]\n",
      "Epoch: 1, T.Loss: 17.535, Accs: [('$', 28.12), ('Water', 53.12), ('Toilet', 57.81), ('Roof', 35.94), ('Cook', 67.19), ('Drought', 67.19), ('Pop', 34.38), ('Livestock', 46.88), ('Agri', 43.75)]\n",
      "Epoch: 1, T.Loss: 17.702, Accs: [('$', 34.38), ('Water', 48.44), ('Toilet', 54.69), ('Roof', 34.38), ('Cook', 62.5), ('Drought', 45.31), ('Pop', 37.5), ('Livestock', 40.62), ('Agri', 57.81)]\n",
      "Epoch: 1, T.Loss: 16.924, Accs: [('$', 35.94), ('Water', 59.38), ('Toilet', 56.25), ('Roof', 35.94), ('Cook', 75.0), ('Drought', 68.75), ('Pop', 48.44), ('Livestock', 45.31), ('Agri', 56.25)]\n",
      "Epoch: 1, T.Loss: 18.223, Accs: [('$', 34.38), ('Water', 40.62), ('Toilet', 53.12), ('Roof', 31.25), ('Cook', 62.5), ('Drought', 57.81), ('Pop', 46.88), ('Livestock', 43.75), ('Agri', 51.56)]\n",
      "Epoch: 1, T.Loss: 17.352, Accs: [('$', 39.06), ('Water', 51.56), ('Toilet', 60.94), ('Roof', 37.5), ('Cook', 64.06), ('Drought', 73.44), ('Pop', 37.5), ('Livestock', 56.25), ('Agri', 39.06)]\n"
     ]
    },
    {
     "name": "stdout",
     "output_type": "stream",
     "text": [
      "Epoch: 1, T.Loss: 17.048, Accs: [('$', 34.38), ('Water', 50.0), ('Toilet', 60.94), ('Roof', 28.12), ('Cook', 71.88), ('Drought', 62.5), ('Pop', 51.56), ('Livestock', 31.25), ('Agri', 60.94)]\n",
      "Epoch: 1, T.Loss: 18.177, Accs: [('$', 39.06), ('Water', 51.56), ('Toilet', 56.25), ('Roof', 35.94), ('Cook', 54.69), ('Drought', 56.25), ('Pop', 35.94), ('Livestock', 35.94), ('Agri', 59.38)]\n",
      "Epoch: 1, T.Loss: 17.601, Accs: [('$', 32.81), ('Water', 46.88), ('Toilet', 53.12), ('Roof', 37.5), ('Cook', 62.5), ('Drought', 67.19), ('Pop', 40.62), ('Livestock', 37.5), ('Agri', 54.69)]\n",
      "Epoch: 1, T.Loss: 17.663, Accs: [('$', 28.12), ('Water', 54.69), ('Toilet', 54.69), ('Roof', 34.38), ('Cook', 68.75), ('Drought', 60.94), ('Pop', 43.75), ('Livestock', 39.06), ('Agri', 59.38)]\n",
      "Epoch: 1, T.Loss: 17.505, Accs: [('$', 35.94), ('Water', 62.5), ('Toilet', 57.81), ('Roof', 28.12), ('Cook', 65.62), ('Drought', 53.12), ('Pop', 43.75), ('Livestock', 42.19), ('Agri', 50.0)]\n",
      "Epoch: 1, T.Loss: 16.507, Accs: [('$', 37.5), ('Water', 53.12), ('Toilet', 65.62), ('Roof', 37.5), ('Cook', 73.44), ('Drought', 56.25), ('Pop', 29.69), ('Livestock', 46.88), ('Agri', 53.12)]\n",
      "Epoch: 1, T.Loss: 17.745, Accs: [('$', 23.44), ('Water', 56.25), ('Toilet', 56.25), ('Roof', 28.12), ('Cook', 65.62), ('Drought', 48.44), ('Pop', 39.06), ('Livestock', 34.38), ('Agri', 45.31)]\n",
      "Epoch: 1, T.Loss: 17.342, Accs: [('$', 32.81), ('Water', 46.88), ('Toilet', 54.69), ('Roof', 37.5), ('Cook', 70.31), ('Drought', 60.94), ('Pop', 48.44), ('Livestock', 43.75), ('Agri', 50.0)]\n",
      "Epoch: 1, T.Loss: 17.388, Accs: [('$', 32.81), ('Water', 46.88), ('Toilet', 54.69), ('Roof', 20.31), ('Cook', 78.12), ('Drought', 57.81), ('Pop', 46.88), ('Livestock', 45.31), ('Agri', 60.94)]\n",
      "Epoch: 1, T.Loss: 17.095, Accs: [('$', 50.0), ('Water', 48.44), ('Toilet', 62.5), ('Roof', 31.25), ('Cook', 73.44), ('Drought', 64.06), ('Pop', 53.12), ('Livestock', 50.0), ('Agri', 53.12)]\n",
      "Epoch: 1, T.Loss: 18.025, Accs: [('$', 28.12), ('Water', 50.0), ('Toilet', 62.5), ('Roof', 28.12), ('Cook', 71.88), ('Drought', 64.06), ('Pop', 48.44), ('Livestock', 56.25), ('Agri', 35.94)]\n",
      "Epoch: 1, T.Loss: 16.669, Accs: [('$', 32.81), ('Water', 42.19), ('Toilet', 53.12), ('Roof', 35.94), ('Cook', 81.25), ('Drought', 67.19), ('Pop', 46.88), ('Livestock', 43.75), ('Agri', 54.69)]\n",
      "Epoch: 1, T.Loss: 17.199, Accs: [('$', 45.31), ('Water', 50.0), ('Toilet', 59.38), ('Roof', 37.5), ('Cook', 68.75), ('Drought', 57.81), ('Pop', 43.75), ('Livestock', 46.88), ('Agri', 46.88)]\n",
      "Epoch: 1, T.Loss: 17.276, Accs: [('$', 29.69), ('Water', 51.56), ('Toilet', 53.12), ('Roof', 34.38), ('Cook', 73.44), ('Drought', 71.88), ('Pop', 37.5), ('Livestock', 48.44), ('Agri', 46.88)]\n",
      "Epoch: 1, T.Loss: 16.118, Accs: [('$', 48.44), ('Water', 57.81), ('Toilet', 62.5), ('Roof', 37.5), ('Cook', 73.44), ('Drought', 65.62), ('Pop', 37.5), ('Livestock', 42.19), ('Agri', 53.12)]\n",
      "Epoch: 1, T.Loss: 19.364, Accs: [('$', 0.0), ('Water', 66.67), ('Toilet', 66.67), ('Roof', 0.0), ('Cook', 33.33), ('Drought', 33.33), ('Pop', 0.0), ('Livestock', 66.67), ('Agri', 0.0)]\n",
      "Epoch: 1, V.Loss: 17.324, Accs: [('$', 36.09), ('Water', 51.26), ('Toilet', 57.23), ('Roof', 31.17), ('Cook', 69.08), ('Drought', 63.76), ('Pop', 42.67), ('Livestock', 44.78), ('Agri', 46.03)]\n"
     ]
    }
   ],
   "source": [
    "learn.fit(2, 5e-1, db, opt_fn)"
   ]
  },
  {
   "cell_type": "code",
   "execution_count": 35,
   "metadata": {},
   "outputs": [],
   "source": [
    "torch.save(learn.wrapper.model.state_dict(), 'composite-model-R.pt')"
   ]
  },
  {
   "cell_type": "code",
   "execution_count": null,
   "metadata": {},
   "outputs": [
    {
     "name": "stdout",
     "output_type": "stream",
     "text": [
      "Epoch: 0, T.Loss: 17.043, Accs: [('$', 42.19), ('Water', 48.44), ('Toilet', 56.25), ('Roof', 31.25), ('Cook', 70.31), ('Drought', 53.12), ('Pop', 50.0), ('Livestock', 56.25), ('Agri', 45.31)]\n",
      "Epoch: 0, T.Loss: 17.684, Accs: [('$', 29.69), ('Water', 50.0), ('Toilet', 59.38), ('Roof', 32.81), ('Cook', 60.94), ('Drought', 64.06), ('Pop', 43.75), ('Livestock', 40.62), ('Agri', 46.88)]\n",
      "Epoch: 0, T.Loss: 16.811, Accs: [('$', 34.38), ('Water', 60.94), ('Toilet', 67.19), ('Roof', 40.62), ('Cook', 68.75), ('Drought', 54.69), ('Pop', 35.94), ('Livestock', 51.56), ('Agri', 54.69)]\n",
      "Epoch: 0, T.Loss: 17.392, Accs: [('$', 21.88), ('Water', 53.12), ('Toilet', 65.62), ('Roof', 34.38), ('Cook', 60.94), ('Drought', 56.25), ('Pop', 32.81), ('Livestock', 35.94), ('Agri', 60.94)]\n",
      "Epoch: 0, T.Loss: 18.581, Accs: [('$', 28.12), ('Water', 40.62), ('Toilet', 46.88), ('Roof', 26.56), ('Cook', 62.5), ('Drought', 59.38), ('Pop', 43.75), ('Livestock', 35.94), ('Agri', 59.38)]\n",
      "Epoch: 0, T.Loss: 17.301, Accs: [('$', 42.19), ('Water', 51.56), ('Toilet', 54.69), ('Roof', 31.25), ('Cook', 73.44), ('Drought', 59.38), ('Pop', 50.0), ('Livestock', 51.56), ('Agri', 43.75)]\n",
      "Epoch: 0, T.Loss: 17.472, Accs: [('$', 26.56), ('Water', 42.19), ('Toilet', 48.44), ('Roof', 35.94), ('Cook', 65.62), ('Drought', 59.38), ('Pop', 48.44), ('Livestock', 48.44), ('Agri', 40.62)]\n",
      "Epoch: 0, T.Loss: 18.387, Accs: [('$', 32.81), ('Water', 34.38), ('Toilet', 48.44), ('Roof', 34.38), ('Cook', 70.31), ('Drought', 60.94), ('Pop', 54.69), ('Livestock', 40.62), ('Agri', 57.81)]\n",
      "Epoch: 0, T.Loss: 17.470, Accs: [('$', 34.38), ('Water', 46.88), ('Toilet', 51.56), ('Roof', 31.25), ('Cook', 79.69), ('Drought', 64.06), ('Pop', 42.19), ('Livestock', 48.44), ('Agri', 48.44)]\n",
      "Epoch: 0, T.Loss: 16.586, Accs: [('$', 35.94), ('Water', 48.44), ('Toilet', 56.25), ('Roof', 39.06), ('Cook', 67.19), ('Drought', 59.38), ('Pop', 54.69), ('Livestock', 46.88), ('Agri', 53.12)]\n",
      "Epoch: 0, T.Loss: 17.309, Accs: [('$', 35.94), ('Water', 56.25), ('Toilet', 60.94), ('Roof', 39.06), ('Cook', 62.5), ('Drought', 68.75), ('Pop', 35.94), ('Livestock', 48.44), ('Agri', 53.12)]\n",
      "Epoch: 0, T.Loss: 17.098, Accs: [('$', 28.12), ('Water', 59.38), ('Toilet', 54.69), ('Roof', 34.38), ('Cook', 65.62), ('Drought', 65.62), ('Pop', 42.19), ('Livestock', 43.75), ('Agri', 51.56)]\n",
      "Epoch: 0, T.Loss: 17.620, Accs: [('$', 35.94), ('Water', 46.88), ('Toilet', 59.38), ('Roof', 34.38), ('Cook', 62.5), ('Drought', 57.81), ('Pop', 34.38), ('Livestock', 45.31), ('Agri', 45.31)]\n",
      "Epoch: 0, T.Loss: 17.580, Accs: [('$', 35.94), ('Water', 39.06), ('Toilet', 57.81), ('Roof', 20.31), ('Cook', 78.12), ('Drought', 62.5), ('Pop', 39.06), ('Livestock', 46.88), ('Agri', 57.81)]\n",
      "Epoch: 0, T.Loss: 18.065, Accs: [('$', 32.81), ('Water', 42.19), ('Toilet', 56.25), ('Roof', 32.81), ('Cook', 59.38), ('Drought', 48.44), ('Pop', 45.31), ('Livestock', 46.88), ('Agri', 62.5)]\n",
      "Epoch: 0, T.Loss: 16.501, Accs: [('$', 35.94), ('Water', 59.38), ('Toilet', 62.5), ('Roof', 31.25), ('Cook', 75.0), ('Drought', 68.75), ('Pop', 48.44), ('Livestock', 42.19), ('Agri', 48.44)]\n",
      "Epoch: 0, T.Loss: 16.764, Accs: [('$', 32.81), ('Water', 57.81), ('Toilet', 60.94), ('Roof', 37.5), ('Cook', 68.75), ('Drought', 73.44), ('Pop', 34.38), ('Livestock', 43.75), ('Agri', 48.44)]\n",
      "Epoch: 0, T.Loss: 16.388, Accs: [('$', 40.62), ('Water', 56.25), ('Toilet', 62.5), ('Roof', 39.06), ('Cook', 68.75), ('Drought', 70.31), ('Pop', 51.56), ('Livestock', 46.88), ('Agri', 56.25)]\n",
      "Epoch: 0, T.Loss: 17.162, Accs: [('$', 31.25), ('Water', 31.25), ('Toilet', 59.38), ('Roof', 23.44), ('Cook', 76.56), ('Drought', 67.19), ('Pop', 54.69), ('Livestock', 53.12), ('Agri', 53.12)]\n",
      "Epoch: 0, T.Loss: 17.034, Accs: [('$', 37.5), ('Water', 48.44), ('Toilet', 50.0), ('Roof', 26.56), ('Cook', 70.31), ('Drought', 73.44), ('Pop', 48.44), ('Livestock', 53.12), ('Agri', 60.94)]\n",
      "Epoch: 0, T.Loss: 17.209, Accs: [('$', 35.94), ('Water', 53.12), ('Toilet', 50.0), ('Roof', 26.56), ('Cook', 71.88), ('Drought', 62.5), ('Pop', 50.0), ('Livestock', 64.06), ('Agri', 42.19)]\n",
      "Epoch: 0, T.Loss: 17.316, Accs: [('$', 35.94), ('Water', 59.38), ('Toilet', 53.12), ('Roof', 26.56), ('Cook', 71.88), ('Drought', 57.81), ('Pop', 39.06), ('Livestock', 48.44), ('Agri', 43.75)]\n",
      "Epoch: 0, T.Loss: 17.239, Accs: [('$', 34.38), ('Water', 59.38), ('Toilet', 62.5), ('Roof', 17.19), ('Cook', 65.62), ('Drought', 57.81), ('Pop', 40.62), ('Livestock', 50.0), ('Agri', 62.5)]\n",
      "Epoch: 0, T.Loss: 16.765, Accs: [('$', 40.62), ('Water', 45.31), ('Toilet', 65.62), ('Roof', 25.0), ('Cook', 73.44), ('Drought', 59.38), ('Pop', 40.62), ('Livestock', 56.25), ('Agri', 43.75)]\n",
      "Epoch: 0, T.Loss: 18.254, Accs: [('$', 21.88), ('Water', 35.94), ('Toilet', 50.0), ('Roof', 39.06), ('Cook', 75.0), ('Drought', 68.75), ('Pop', 43.75), ('Livestock', 34.38), ('Agri', 48.44)]\n",
      "Epoch: 0, T.Loss: 17.669, Accs: [('$', 35.94), ('Water', 54.69), ('Toilet', 51.56), ('Roof', 29.69), ('Cook', 67.19), ('Drought', 67.19), ('Pop', 39.06), ('Livestock', 51.56), ('Agri', 45.31)]\n",
      "Epoch: 0, T.Loss: 17.969, Accs: [('$', 35.94), ('Water', 48.44), ('Toilet', 53.12), ('Roof', 32.81), ('Cook', 57.81), ('Drought', 67.19), ('Pop', 35.94), ('Livestock', 46.88), ('Agri', 34.38)]\n",
      "Epoch: 0, T.Loss: 17.687, Accs: [('$', 34.38), ('Water', 45.31), ('Toilet', 45.31), ('Roof', 31.25), ('Cook', 65.62), ('Drought', 64.06), ('Pop', 51.56), ('Livestock', 45.31), ('Agri', 53.12)]\n",
      "Epoch: 0, T.Loss: 21.730, Accs: [('$', 33.33), ('Water', 33.33), ('Toilet', 33.33), ('Roof', 33.33), ('Cook', 33.33), ('Drought', 100.0), ('Pop', 33.33), ('Livestock', 33.33), ('Agri', 33.33)]\n",
      "Epoch: 0, V.Loss: 17.296, Accs: [('$', 36.09), ('Water', 51.26), ('Toilet', 57.23), ('Roof', 31.17), ('Cook', 69.08), ('Drought', 63.76), ('Pop', 42.67), ('Livestock', 44.78), ('Agri', 46.03)]\n",
      "Epoch: 1, T.Loss: 16.718, Accs: [('$', 40.62), ('Water', 48.44), ('Toilet', 64.06), ('Roof', 25.0), ('Cook', 76.56), ('Drought', 67.19), ('Pop', 42.19), ('Livestock', 42.19), ('Agri', 54.69)]\n",
      "Epoch: 1, T.Loss: 16.341, Accs: [('$', 45.31), ('Water', 54.69), ('Toilet', 62.5), ('Roof', 23.44), ('Cook', 68.75), ('Drought', 70.31), ('Pop', 39.06), ('Livestock', 39.06), ('Agri', 53.12)]\n",
      "Epoch: 1, T.Loss: 16.464, Accs: [('$', 48.44), ('Water', 59.38), ('Toilet', 60.94), ('Roof', 28.12), ('Cook', 67.19), ('Drought', 70.31), ('Pop', 43.75), ('Livestock', 42.19), ('Agri', 39.06)]\n",
      "Epoch: 1, T.Loss: 17.252, Accs: [('$', 40.62), ('Water', 48.44), ('Toilet', 53.12), ('Roof', 40.62), ('Cook', 75.0), ('Drought', 60.94), ('Pop', 45.31), ('Livestock', 43.75), ('Agri', 43.75)]\n",
      "Epoch: 1, T.Loss: 17.506, Accs: [('$', 31.25), ('Water', 46.88), ('Toilet', 48.44), ('Roof', 31.25), ('Cook', 64.06), ('Drought', 59.38), ('Pop', 48.44), ('Livestock', 51.56), ('Agri', 50.0)]\n",
      "Epoch: 1, T.Loss: 17.222, Accs: [('$', 39.06), ('Water', 60.94), ('Toilet', 43.75), ('Roof', 32.81), ('Cook', 75.0), ('Drought', 67.19), ('Pop', 39.06), ('Livestock', 40.62), ('Agri', 48.44)]\n",
      "Epoch: 1, T.Loss: 16.874, Accs: [('$', 37.5), ('Water', 51.56), ('Toilet', 57.81), ('Roof', 28.12), ('Cook', 76.56), ('Drought', 62.5), ('Pop', 37.5), ('Livestock', 56.25), ('Agri', 54.69)]\n",
      "Epoch: 1, T.Loss: 16.789, Accs: [('$', 31.25), ('Water', 59.38), ('Toilet', 54.69), ('Roof', 39.06), ('Cook', 68.75), ('Drought', 64.06), ('Pop', 45.31), ('Livestock', 46.88), ('Agri', 45.31)]\n",
      "Epoch: 1, T.Loss: 17.924, Accs: [('$', 26.56), ('Water', 46.88), ('Toilet', 54.69), ('Roof', 28.12), ('Cook', 70.31), ('Drought', 56.25), ('Pop', 46.88), ('Livestock', 42.19), ('Agri', 39.06)]\n",
      "Epoch: 1, T.Loss: 17.295, Accs: [('$', 29.69), ('Water', 50.0), ('Toilet', 57.81), ('Roof', 40.62), ('Cook', 71.88), ('Drought', 56.25), ('Pop', 31.25), ('Livestock', 48.44), ('Agri', 43.75)]\n",
      "Epoch: 1, T.Loss: 17.427, Accs: [('$', 31.25), ('Water', 51.56), ('Toilet', 56.25), ('Roof', 29.69), ('Cook', 71.88), ('Drought', 68.75), ('Pop', 42.19), ('Livestock', 48.44), ('Agri', 57.81)]\n",
      "Epoch: 1, T.Loss: 17.892, Accs: [('$', 42.19), ('Water', 42.19), ('Toilet', 50.0), ('Roof', 31.25), ('Cook', 70.31), ('Drought', 57.81), ('Pop', 39.06), ('Livestock', 51.56), ('Agri', 53.12)]\n",
      "Epoch: 1, T.Loss: 17.736, Accs: [('$', 37.5), ('Water', 45.31), ('Toilet', 51.56), ('Roof', 35.94), ('Cook', 64.06), ('Drought', 70.31), ('Pop', 45.31), ('Livestock', 53.12), ('Agri', 48.44)]\n"
     ]
    },
    {
     "name": "stdout",
     "output_type": "stream",
     "text": [
      "Epoch: 1, T.Loss: 16.936, Accs: [('$', 29.69), ('Water', 59.38), ('Toilet', 62.5), ('Roof', 37.5), ('Cook', 73.44), ('Drought', 71.88), ('Pop', 34.38), ('Livestock', 48.44), ('Agri', 51.56)]\n",
      "Epoch: 1, T.Loss: 17.001, Accs: [('$', 48.44), ('Water', 46.88), ('Toilet', 51.56), ('Roof', 28.12), ('Cook', 78.12), ('Drought', 64.06), ('Pop', 42.19), ('Livestock', 48.44), ('Agri', 45.31)]\n",
      "Epoch: 1, T.Loss: 16.714, Accs: [('$', 48.44), ('Water', 50.0), ('Toilet', 65.62), ('Roof', 26.56), ('Cook', 68.75), ('Drought', 54.69), ('Pop', 35.94), ('Livestock', 53.12), ('Agri', 53.12)]\n",
      "Epoch: 1, T.Loss: 17.914, Accs: [('$', 34.38), ('Water', 40.62), ('Toilet', 53.12), ('Roof', 28.12), ('Cook', 79.69), ('Drought', 62.5), ('Pop', 43.75), ('Livestock', 51.56), ('Agri', 34.38)]\n",
      "Epoch: 1, T.Loss: 18.072, Accs: [('$', 29.69), ('Water', 51.56), ('Toilet', 48.44), ('Roof', 31.25), ('Cook', 65.62), ('Drought', 60.94), ('Pop', 46.88), ('Livestock', 43.75), ('Agri', 43.75)]\n",
      "Epoch: 1, T.Loss: 17.494, Accs: [('$', 29.69), ('Water', 50.0), ('Toilet', 56.25), ('Roof', 34.38), ('Cook', 64.06), ('Drought', 64.06), ('Pop', 39.06), ('Livestock', 35.94), ('Agri', 43.75)]\n",
      "Epoch: 1, T.Loss: 17.993, Accs: [('$', 28.12), ('Water', 48.44), ('Toilet', 50.0), ('Roof', 32.81), ('Cook', 65.62), ('Drought', 62.5), ('Pop', 39.06), ('Livestock', 48.44), ('Agri', 45.31)]\n",
      "Epoch: 1, T.Loss: 16.663, Accs: [('$', 39.06), ('Water', 46.88), ('Toilet', 64.06), ('Roof', 31.25), ('Cook', 73.44), ('Drought', 56.25), ('Pop', 54.69), ('Livestock', 45.31), ('Agri', 45.31)]\n",
      "Epoch: 1, T.Loss: 16.269, Accs: [('$', 45.31), ('Water', 53.12), ('Toilet', 73.44), ('Roof', 35.94), ('Cook', 71.88), ('Drought', 65.62), ('Pop', 45.31), ('Livestock', 48.44), ('Agri', 56.25)]\n",
      "Epoch: 1, T.Loss: 16.818, Accs: [('$', 43.75), ('Water', 59.38), ('Toilet', 57.81), ('Roof', 29.69), ('Cook', 68.75), ('Drought', 64.06), ('Pop', 48.44), ('Livestock', 45.31), ('Agri', 46.88)]\n",
      "Epoch: 1, T.Loss: 18.155, Accs: [('$', 29.69), ('Water', 45.31), ('Toilet', 53.12), ('Roof', 29.69), ('Cook', 67.19), ('Drought', 54.69), ('Pop', 45.31), ('Livestock', 46.88), ('Agri', 50.0)]\n",
      "Epoch: 1, T.Loss: 17.491, Accs: [('$', 34.38), ('Water', 45.31), ('Toilet', 53.12), ('Roof', 31.25), ('Cook', 73.44), ('Drought', 57.81), ('Pop', 37.5), ('Livestock', 42.19), ('Agri', 42.19)]\n",
      "Epoch: 1, T.Loss: 17.450, Accs: [('$', 26.56), ('Water', 53.12), ('Toilet', 67.19), ('Roof', 32.81), ('Cook', 67.19), ('Drought', 64.06), ('Pop', 48.44), ('Livestock', 54.69), ('Agri', 43.75)]\n",
      "Epoch: 1, T.Loss: 17.551, Accs: [('$', 29.69), ('Water', 53.12), ('Toilet', 51.56), ('Roof', 42.19), ('Cook', 64.06), ('Drought', 62.5), ('Pop', 43.75), ('Livestock', 37.5), ('Agri', 56.25)]\n",
      "Epoch: 1, T.Loss: 16.905, Accs: [('$', 40.62), ('Water', 59.38), ('Toilet', 51.56), ('Roof', 34.38), ('Cook', 70.31), ('Drought', 64.06), ('Pop', 43.75), ('Livestock', 54.69), ('Agri', 48.44)]\n",
      "Epoch: 1, T.Loss: 16.136, Accs: [('$', 0.0), ('Water', 100.0), ('Toilet', 100.0), ('Roof', 33.33), ('Cook', 33.33), ('Drought', 66.67), ('Pop', 0.0), ('Livestock', 66.67), ('Agri', 33.33)]\n",
      "Epoch: 1, V.Loss: 17.298, Accs: [('$', 36.09), ('Water', 51.26), ('Toilet', 57.23), ('Roof', 31.17), ('Cook', 69.08), ('Drought', 63.76), ('Pop', 42.67), ('Livestock', 44.78), ('Agri', 46.03)]\n",
      "Epoch: 2, T.Loss: 17.508, Accs: [('$', 34.38), ('Water', 50.0), ('Toilet', 57.81), ('Roof', 40.62), ('Cook', 75.0), ('Drought', 57.81), ('Pop', 32.81), ('Livestock', 39.06), ('Agri', 57.81)]\n",
      "Epoch: 2, T.Loss: 17.436, Accs: [('$', 32.81), ('Water', 42.19), ('Toilet', 45.31), ('Roof', 32.81), ('Cook', 70.31), ('Drought', 64.06), ('Pop', 42.19), ('Livestock', 53.12), ('Agri', 53.12)]\n",
      "Epoch: 2, T.Loss: 17.900, Accs: [('$', 28.12), ('Water', 53.12), ('Toilet', 53.12), ('Roof', 42.19), ('Cook', 64.06), ('Drought', 71.88), ('Pop', 35.94), ('Livestock', 45.31), ('Agri', 50.0)]\n",
      "Epoch: 2, T.Loss: 16.339, Accs: [('$', 42.19), ('Water', 65.62), ('Toilet', 59.38), ('Roof', 29.69), ('Cook', 70.31), ('Drought', 60.94), ('Pop', 48.44), ('Livestock', 39.06), ('Agri', 54.69)]\n",
      "Epoch: 2, T.Loss: 17.945, Accs: [('$', 42.19), ('Water', 48.44), ('Toilet', 43.75), ('Roof', 29.69), ('Cook', 64.06), ('Drought', 53.12), ('Pop', 32.81), ('Livestock', 53.12), ('Agri', 34.38)]\n",
      "Epoch: 2, T.Loss: 17.365, Accs: [('$', 28.12), ('Water', 53.12), ('Toilet', 56.25), ('Roof', 28.12), ('Cook', 68.75), ('Drought', 57.81), ('Pop', 39.06), ('Livestock', 46.88), ('Agri', 35.94)]\n",
      "Epoch: 2, T.Loss: 17.133, Accs: [('$', 32.81), ('Water', 59.38), ('Toilet', 64.06), ('Roof', 26.56), ('Cook', 76.56), ('Drought', 62.5), ('Pop', 37.5), ('Livestock', 50.0), ('Agri', 42.19)]\n",
      "Epoch: 2, T.Loss: 16.881, Accs: [('$', 37.5), ('Water', 59.38), ('Toilet', 59.38), ('Roof', 26.56), ('Cook', 68.75), ('Drought', 57.81), ('Pop', 53.12), ('Livestock', 51.56), ('Agri', 53.12)]\n",
      "Epoch: 2, T.Loss: 17.413, Accs: [('$', 37.5), ('Water', 51.56), ('Toilet', 60.94), ('Roof', 39.06), ('Cook', 70.31), ('Drought', 59.38), ('Pop', 43.75), ('Livestock', 43.75), ('Agri', 45.31)]\n",
      "Epoch: 2, T.Loss: 17.379, Accs: [('$', 43.75), ('Water', 48.44), ('Toilet', 51.56), ('Roof', 26.56), ('Cook', 71.88), ('Drought', 70.31), ('Pop', 57.81), ('Livestock', 48.44), ('Agri', 51.56)]\n",
      "Epoch: 2, T.Loss: 17.980, Accs: [('$', 48.44), ('Water', 45.31), ('Toilet', 50.0), ('Roof', 31.25), ('Cook', 67.19), ('Drought', 62.5), ('Pop', 32.81), ('Livestock', 42.19), ('Agri', 43.75)]\n",
      "Epoch: 2, T.Loss: 17.918, Accs: [('$', 35.94), ('Water', 53.12), ('Toilet', 43.75), ('Roof', 32.81), ('Cook', 64.06), ('Drought', 68.75), ('Pop', 31.25), ('Livestock', 43.75), ('Agri', 46.88)]\n",
      "Epoch: 2, T.Loss: 17.664, Accs: [('$', 34.38), ('Water', 40.62), ('Toilet', 60.94), ('Roof', 26.56), ('Cook', 76.56), ('Drought', 57.81), ('Pop', 60.94), ('Livestock', 42.19), ('Agri', 54.69)]\n",
      "Epoch: 2, T.Loss: 17.109, Accs: [('$', 34.38), ('Water', 53.12), ('Toilet', 57.81), ('Roof', 29.69), ('Cook', 73.44), ('Drought', 64.06), ('Pop', 45.31), ('Livestock', 50.0), ('Agri', 48.44)]\n",
      "Epoch: 2, T.Loss: 17.152, Accs: [('$', 43.75), ('Water', 51.56), ('Toilet', 60.94), ('Roof', 32.81), ('Cook', 67.19), ('Drought', 51.56), ('Pop', 28.12), ('Livestock', 51.56), ('Agri', 40.62)]\n",
      "Epoch: 2, T.Loss: 16.777, Accs: [('$', 31.25), ('Water', 62.5), ('Toilet', 64.06), ('Roof', 29.69), ('Cook', 60.94), ('Drought', 76.56), ('Pop', 45.31), ('Livestock', 45.31), ('Agri', 57.81)]\n",
      "Epoch: 2, T.Loss: 17.794, Accs: [('$', 35.94), ('Water', 43.75), ('Toilet', 48.44), ('Roof', 18.75), ('Cook', 71.88), ('Drought', 60.94), ('Pop', 42.19), ('Livestock', 42.19), ('Agri', 53.12)]\n",
      "Epoch: 2, T.Loss: 16.403, Accs: [('$', 40.62), ('Water', 67.19), ('Toilet', 60.94), ('Roof', 28.12), ('Cook', 64.06), ('Drought', 65.62), ('Pop', 43.75), ('Livestock', 43.75), ('Agri', 53.12)]\n",
      "Epoch: 2, T.Loss: 17.831, Accs: [('$', 28.12), ('Water', 39.06), ('Toilet', 56.25), ('Roof', 20.31), ('Cook', 67.19), ('Drought', 60.94), ('Pop', 43.75), ('Livestock', 51.56), ('Agri', 42.19)]\n",
      "Epoch: 2, T.Loss: 17.496, Accs: [('$', 51.56), ('Water', 46.88), ('Toilet', 43.75), ('Roof', 21.88), ('Cook', 81.25), ('Drought', 70.31), ('Pop', 46.88), ('Livestock', 48.44), ('Agri', 50.0)]\n",
      "Epoch: 2, T.Loss: 17.607, Accs: [('$', 31.25), ('Water', 48.44), ('Toilet', 54.69), ('Roof', 34.38), ('Cook', 70.31), ('Drought', 60.94), ('Pop', 48.44), ('Livestock', 46.88), ('Agri', 48.44)]\n",
      "Epoch: 2, T.Loss: 17.240, Accs: [('$', 25.0), ('Water', 56.25), ('Toilet', 56.25), ('Roof', 32.81), ('Cook', 71.88), ('Drought', 67.19), ('Pop', 35.94), ('Livestock', 43.75), ('Agri', 54.69)]\n",
      "Epoch: 2, T.Loss: 17.176, Accs: [('$', 32.81), ('Water', 42.19), ('Toilet', 65.62), ('Roof', 26.56), ('Cook', 68.75), ('Drought', 75.0), ('Pop', 46.88), ('Livestock', 42.19), ('Agri', 48.44)]\n",
      "Epoch: 2, T.Loss: 16.905, Accs: [('$', 31.25), ('Water', 57.81), ('Toilet', 60.94), ('Roof', 26.56), ('Cook', 67.19), ('Drought', 60.94), ('Pop', 32.81), ('Livestock', 42.19), ('Agri', 53.12)]\n",
      "Epoch: 2, T.Loss: 16.781, Accs: [('$', 39.06), ('Water', 60.94), ('Toilet', 53.12), ('Roof', 28.12), ('Cook', 75.0), ('Drought', 64.06), ('Pop', 54.69), ('Livestock', 57.81), ('Agri', 35.94)]\n",
      "Epoch: 2, T.Loss: 17.270, Accs: [('$', 42.19), ('Water', 50.0), ('Toilet', 59.38), ('Roof', 34.38), ('Cook', 54.69), ('Drought', 67.19), ('Pop', 35.94), ('Livestock', 53.12), ('Agri', 40.62)]\n"
     ]
    },
    {
     "name": "stdout",
     "output_type": "stream",
     "text": [
      "Epoch: 2, T.Loss: 16.772, Accs: [('$', 54.69), ('Water', 53.12), ('Toilet', 62.5), ('Roof', 34.38), ('Cook', 70.31), ('Drought', 62.5), ('Pop', 31.25), ('Livestock', 51.56), ('Agri', 56.25)]\n",
      "Epoch: 2, T.Loss: 17.085, Accs: [('$', 34.38), ('Water', 60.94), ('Toilet', 65.62), ('Roof', 34.38), ('Cook', 62.5), ('Drought', 71.88), ('Pop', 43.75), ('Livestock', 43.75), ('Agri', 45.31)]\n",
      "Epoch: 2, T.Loss: 14.596, Accs: [('$', 33.33), ('Water', 66.67), ('Toilet', 66.67), ('Roof', 33.33), ('Cook', 100.0), ('Drought', 33.33), ('Pop', 33.33), ('Livestock', 66.67), ('Agri', 100.0)]\n",
      "Epoch: 2, V.Loss: 17.295, Accs: [('$', 36.09), ('Water', 51.26), ('Toilet', 57.23), ('Roof', 31.17), ('Cook', 69.08), ('Drought', 63.76), ('Pop', 42.67), ('Livestock', 44.78), ('Agri', 46.03)]\n",
      "Epoch: 0, T.Loss: 18.112, Accs: [('$', 32.81), ('Water', 42.19), ('Toilet', 53.12), ('Roof', 29.69), ('Cook', 65.62), ('Drought', 62.5), ('Pop', 42.19), ('Livestock', 43.75), ('Agri', 54.69)]\n",
      "Epoch: 0, T.Loss: 17.443, Accs: [('$', 34.38), ('Water', 50.0), ('Toilet', 51.56), ('Roof', 32.81), ('Cook', 73.44), ('Drought', 62.5), ('Pop', 35.94), ('Livestock', 46.88), ('Agri', 42.19)]\n",
      "Epoch: 0, T.Loss: 17.529, Accs: [('$', 31.25), ('Water', 56.25), ('Toilet', 54.69), ('Roof', 31.25), ('Cook', 56.25), ('Drought', 70.31), ('Pop', 42.19), ('Livestock', 46.88), ('Agri', 53.12)]\n",
      "Epoch: 0, T.Loss: 16.549, Accs: [('$', 48.44), ('Water', 54.69), ('Toilet', 64.06), ('Roof', 26.56), ('Cook', 73.44), ('Drought', 62.5), ('Pop', 42.19), ('Livestock', 42.19), ('Agri', 42.19)]\n",
      "Epoch: 0, T.Loss: 17.271, Accs: [('$', 42.19), ('Water', 42.19), ('Toilet', 67.19), ('Roof', 25.0), ('Cook', 75.0), ('Drought', 64.06), ('Pop', 39.06), ('Livestock', 43.75), ('Agri', 57.81)]\n",
      "Epoch: 0, T.Loss: 17.106, Accs: [('$', 35.94), ('Water', 53.12), ('Toilet', 54.69), ('Roof', 35.94), ('Cook', 73.44), ('Drought', 48.44), ('Pop', 35.94), ('Livestock', 32.81), ('Agri', 56.25)]\n",
      "Epoch: 0, T.Loss: 17.335, Accs: [('$', 39.06), ('Water', 54.69), ('Toilet', 59.38), ('Roof', 34.38), ('Cook', 70.31), ('Drought', 62.5), ('Pop', 42.19), ('Livestock', 53.12), ('Agri', 62.5)]\n",
      "Epoch: 0, T.Loss: 18.224, Accs: [('$', 29.69), ('Water', 40.62), ('Toilet', 50.0), ('Roof', 32.81), ('Cook', 71.88), ('Drought', 59.38), ('Pop', 45.31), ('Livestock', 50.0), ('Agri', 35.94)]\n",
      "Epoch: 0, T.Loss: 16.831, Accs: [('$', 34.38), ('Water', 59.38), ('Toilet', 65.62), ('Roof', 26.56), ('Cook', 67.19), ('Drought', 67.19), ('Pop', 43.75), ('Livestock', 42.19), ('Agri', 40.62)]\n",
      "Epoch: 0, T.Loss: 16.994, Accs: [('$', 32.81), ('Water', 46.88), ('Toilet', 56.25), ('Roof', 29.69), ('Cook', 71.88), ('Drought', 65.62), ('Pop', 51.56), ('Livestock', 51.56), ('Agri', 45.31)]\n",
      "Epoch: 0, T.Loss: 17.219, Accs: [('$', 32.81), ('Water', 46.88), ('Toilet', 54.69), ('Roof', 29.69), ('Cook', 71.88), ('Drought', 70.31), ('Pop', 45.31), ('Livestock', 46.88), ('Agri', 54.69)]\n",
      "Epoch: 0, T.Loss: 16.627, Accs: [('$', 43.75), ('Water', 50.0), ('Toilet', 59.38), ('Roof', 37.5), ('Cook', 73.44), ('Drought', 65.62), ('Pop', 43.75), ('Livestock', 45.31), ('Agri', 59.38)]\n",
      "Epoch: 0, T.Loss: 17.011, Accs: [('$', 34.38), ('Water', 54.69), ('Toilet', 51.56), ('Roof', 29.69), ('Cook', 78.12), ('Drought', 64.06), ('Pop', 54.69), ('Livestock', 46.88), ('Agri', 37.5)]\n",
      "Epoch: 0, T.Loss: 16.583, Accs: [('$', 29.69), ('Water', 54.69), ('Toilet', 71.88), ('Roof', 37.5), ('Cook', 68.75), ('Drought', 60.94), ('Pop', 34.38), ('Livestock', 46.88), ('Agri', 50.0)]\n",
      "Epoch: 0, T.Loss: 18.097, Accs: [('$', 28.12), ('Water', 43.75), ('Toilet', 50.0), ('Roof', 35.94), ('Cook', 60.94), ('Drought', 53.12), ('Pop', 51.56), ('Livestock', 40.62), ('Agri', 53.12)]\n",
      "Epoch: 0, T.Loss: 17.766, Accs: [('$', 29.69), ('Water', 45.31), ('Toilet', 48.44), ('Roof', 32.81), ('Cook', 68.75), ('Drought', 78.12), ('Pop', 51.56), ('Livestock', 50.0), ('Agri', 43.75)]\n",
      "Epoch: 0, T.Loss: 17.507, Accs: [('$', 32.81), ('Water', 50.0), ('Toilet', 54.69), ('Roof', 31.25), ('Cook', 65.62), ('Drought', 60.94), ('Pop', 43.75), ('Livestock', 43.75), ('Agri', 39.06)]\n",
      "Epoch: 0, T.Loss: 18.059, Accs: [('$', 28.12), ('Water', 56.25), ('Toilet', 57.81), ('Roof', 35.94), ('Cook', 60.94), ('Drought', 67.19), ('Pop', 48.44), ('Livestock', 39.06), ('Agri', 42.19)]\n",
      "Epoch: 0, T.Loss: 17.980, Accs: [('$', 34.38), ('Water', 39.06), ('Toilet', 43.75), ('Roof', 23.44), ('Cook', 76.56), ('Drought', 50.0), ('Pop', 45.31), ('Livestock', 40.62), ('Agri', 60.94)]\n",
      "Epoch: 0, T.Loss: 17.497, Accs: [('$', 28.12), ('Water', 48.44), ('Toilet', 56.25), ('Roof', 29.69), ('Cook', 64.06), ('Drought', 53.12), ('Pop', 43.75), ('Livestock', 45.31), ('Agri', 53.12)]\n",
      "Epoch: 0, T.Loss: 17.316, Accs: [('$', 39.06), ('Water', 45.31), ('Toilet', 51.56), ('Roof', 28.12), ('Cook', 76.56), ('Drought', 62.5), ('Pop', 53.12), ('Livestock', 43.75), ('Agri', 46.88)]\n",
      "Epoch: 0, T.Loss: 17.958, Accs: [('$', 31.25), ('Water', 42.19), ('Toilet', 50.0), ('Roof', 29.69), ('Cook', 62.5), ('Drought', 65.62), ('Pop', 48.44), ('Livestock', 42.19), ('Agri', 59.38)]\n",
      "Epoch: 0, T.Loss: 17.327, Accs: [('$', 40.62), ('Water', 46.88), ('Toilet', 60.94), ('Roof', 28.12), ('Cook', 62.5), ('Drought', 51.56), ('Pop', 37.5), ('Livestock', 48.44), ('Agri', 53.12)]\n",
      "Epoch: 0, T.Loss: 16.535, Accs: [('$', 39.06), ('Water', 56.25), ('Toilet', 53.12), ('Roof', 35.94), ('Cook', 71.88), ('Drought', 60.94), ('Pop', 34.38), ('Livestock', 59.38), ('Agri', 53.12)]\n",
      "Epoch: 0, T.Loss: 17.071, Accs: [('$', 37.5), ('Water', 53.12), ('Toilet', 54.69), ('Roof', 35.94), ('Cook', 65.62), ('Drought', 62.5), ('Pop', 48.44), ('Livestock', 39.06), ('Agri', 50.0)]\n",
      "Epoch: 0, T.Loss: 17.355, Accs: [('$', 34.38), ('Water', 54.69), ('Toilet', 60.94), ('Roof', 32.81), ('Cook', 71.88), ('Drought', 64.06), ('Pop', 35.94), ('Livestock', 39.06), ('Agri', 50.0)]\n",
      "Epoch: 0, T.Loss: 17.576, Accs: [('$', 32.81), ('Water', 53.12), ('Toilet', 67.19), ('Roof', 31.25), ('Cook', 56.25), ('Drought', 68.75), ('Pop', 40.62), ('Livestock', 50.0), ('Agri', 48.44)]\n",
      "Epoch: 0, T.Loss: 17.215, Accs: [('$', 42.19), ('Water', 51.56), ('Toilet', 59.38), ('Roof', 29.69), ('Cook', 68.75), ('Drought', 50.0), ('Pop', 37.5), ('Livestock', 43.75), ('Agri', 54.69)]\n",
      "Epoch: 0, T.Loss: 15.986, Accs: [('$', 33.33), ('Water', 66.67), ('Toilet', 100.0), ('Roof', 33.33), ('Cook', 66.67), ('Drought', 100.0), ('Pop', 33.33), ('Livestock', 0.0), ('Agri', 66.67)]\n",
      "Epoch: 0, V.Loss: 17.294, Accs: [('$', 36.09), ('Water', 51.26), ('Toilet', 57.23), ('Roof', 31.17), ('Cook', 69.08), ('Drought', 63.76), ('Pop', 42.67), ('Livestock', 44.78), ('Agri', 46.03)]\n",
      "Epoch: 1, T.Loss: 16.789, Accs: [('$', 37.5), ('Water', 46.88), ('Toilet', 68.75), ('Roof', 25.0), ('Cook', 81.25), ('Drought', 70.31), ('Pop', 50.0), ('Livestock', 42.19), ('Agri', 56.25)]\n",
      "Epoch: 1, T.Loss: 17.406, Accs: [('$', 25.0), ('Water', 50.0), ('Toilet', 59.38), ('Roof', 37.5), ('Cook', 75.0), ('Drought', 57.81), ('Pop', 39.06), ('Livestock', 39.06), ('Agri', 50.0)]\n",
      "Epoch: 1, T.Loss: 17.837, Accs: [('$', 35.94), ('Water', 45.31), ('Toilet', 53.12), ('Roof', 23.44), ('Cook', 59.38), ('Drought', 59.38), ('Pop', 48.44), ('Livestock', 46.88), ('Agri', 56.25)]\n",
      "Epoch: 1, T.Loss: 17.099, Accs: [('$', 37.5), ('Water', 56.25), ('Toilet', 54.69), ('Roof', 29.69), ('Cook', 71.88), ('Drought', 50.0), ('Pop', 34.38), ('Livestock', 40.62), ('Agri', 46.88)]\n",
      "Epoch: 1, T.Loss: 16.810, Accs: [('$', 43.75), ('Water', 48.44), ('Toilet', 57.81), ('Roof', 26.56), ('Cook', 73.44), ('Drought', 64.06), ('Pop', 40.62), ('Livestock', 59.38), ('Agri', 59.38)]\n",
      "Epoch: 1, T.Loss: 16.576, Accs: [('$', 32.81), ('Water', 56.25), ('Toilet', 70.31), ('Roof', 29.69), ('Cook', 75.0), ('Drought', 71.88), ('Pop', 35.94), ('Livestock', 34.38), ('Agri', 62.5)]\n",
      "Epoch: 1, T.Loss: 16.860, Accs: [('$', 45.31), ('Water', 46.88), ('Toilet', 60.94), ('Roof', 20.31), ('Cook', 71.88), ('Drought', 59.38), ('Pop', 39.06), ('Livestock', 51.56), ('Agri', 54.69)]\n",
      "Epoch: 1, T.Loss: 17.254, Accs: [('$', 34.38), ('Water', 50.0), ('Toilet', 51.56), ('Roof', 40.62), ('Cook', 71.88), ('Drought', 64.06), ('Pop', 37.5), ('Livestock', 46.88), ('Agri', 42.19)]\n",
      "Epoch: 1, T.Loss: 17.473, Accs: [('$', 29.69), ('Water', 60.94), ('Toilet', 59.38), ('Roof', 37.5), ('Cook', 53.12), ('Drought', 71.88), ('Pop', 40.62), ('Livestock', 45.31), ('Agri', 62.5)]\n"
     ]
    },
    {
     "name": "stdout",
     "output_type": "stream",
     "text": [
      "Epoch: 1, T.Loss: 16.384, Accs: [('$', 54.69), ('Water', 65.62), ('Toilet', 62.5), ('Roof', 29.69), ('Cook', 73.44), ('Drought', 57.81), ('Pop', 48.44), ('Livestock', 42.19), ('Agri', 50.0)]\n",
      "Epoch: 1, T.Loss: 17.469, Accs: [('$', 34.38), ('Water', 50.0), ('Toilet', 60.94), ('Roof', 31.25), ('Cook', 62.5), ('Drought', 60.94), ('Pop', 40.62), ('Livestock', 50.0), ('Agri', 57.81)]\n",
      "Epoch: 1, T.Loss: 16.880, Accs: [('$', 31.25), ('Water', 48.44), ('Toilet', 60.94), ('Roof', 39.06), ('Cook', 70.31), ('Drought', 48.44), ('Pop', 40.62), ('Livestock', 50.0), ('Agri', 50.0)]\n",
      "Epoch: 1, T.Loss: 16.999, Accs: [('$', 37.5), ('Water', 62.5), ('Toilet', 62.5), ('Roof', 28.12), ('Cook', 64.06), ('Drought', 68.75), ('Pop', 43.75), ('Livestock', 48.44), ('Agri', 46.88)]\n",
      "Epoch: 1, T.Loss: 18.419, Accs: [('$', 23.44), ('Water', 42.19), ('Toilet', 50.0), ('Roof', 34.38), ('Cook', 64.06), ('Drought', 48.44), ('Pop', 50.0), ('Livestock', 43.75), ('Agri', 56.25)]\n",
      "Epoch: 1, T.Loss: 17.096, Accs: [('$', 42.19), ('Water', 53.12), ('Toilet', 57.81), ('Roof', 29.69), ('Cook', 65.62), ('Drought', 56.25), ('Pop', 40.62), ('Livestock', 43.75), ('Agri', 57.81)]\n",
      "Epoch: 1, T.Loss: 17.764, Accs: [('$', 25.0), ('Water', 43.75), ('Toilet', 56.25), ('Roof', 35.94), ('Cook', 64.06), ('Drought', 65.62), ('Pop', 39.06), ('Livestock', 39.06), ('Agri', 48.44)]\n",
      "Epoch: 1, T.Loss: 17.796, Accs: [('$', 32.81), ('Water', 45.31), ('Toilet', 54.69), ('Roof', 32.81), ('Cook', 68.75), ('Drought', 62.5), ('Pop', 54.69), ('Livestock', 46.88), ('Agri', 43.75)]\n",
      "Epoch: 1, T.Loss: 18.111, Accs: [('$', 29.69), ('Water', 48.44), ('Toilet', 54.69), ('Roof', 31.25), ('Cook', 60.94), ('Drought', 56.25), ('Pop', 39.06), ('Livestock', 50.0), ('Agri', 54.69)]\n",
      "Epoch: 1, T.Loss: 17.234, Accs: [('$', 28.12), ('Water', 48.44), ('Toilet', 62.5), ('Roof', 20.31), ('Cook', 70.31), ('Drought', 54.69), ('Pop', 39.06), ('Livestock', 42.19), ('Agri', 60.94)]\n",
      "Epoch: 1, T.Loss: 15.971, Accs: [('$', 43.75), ('Water', 62.5), ('Toilet', 68.75), ('Roof', 35.94), ('Cook', 76.56), ('Drought', 68.75), ('Pop', 40.62), ('Livestock', 48.44), ('Agri', 46.88)]\n",
      "Epoch: 1, T.Loss: 17.756, Accs: [('$', 34.38), ('Water', 43.75), ('Toilet', 60.94), ('Roof', 31.25), ('Cook', 57.81), ('Drought', 54.69), ('Pop', 48.44), ('Livestock', 50.0), ('Agri', 43.75)]\n",
      "Epoch: 1, T.Loss: 17.449, Accs: [('$', 35.94), ('Water', 51.56), ('Toilet', 50.0), ('Roof', 29.69), ('Cook', 65.62), ('Drought', 67.19), ('Pop', 40.62), ('Livestock', 45.31), ('Agri', 40.62)]\n",
      "Epoch: 1, T.Loss: 17.527, Accs: [('$', 26.56), ('Water', 46.88), ('Toilet', 59.38), ('Roof', 31.25), ('Cook', 67.19), ('Drought', 46.88), ('Pop', 53.12), ('Livestock', 35.94), ('Agri', 59.38)]\n",
      "Epoch: 1, T.Loss: 17.526, Accs: [('$', 46.88), ('Water', 48.44), ('Toilet', 45.31), ('Roof', 29.69), ('Cook', 75.0), ('Drought', 57.81), ('Pop', 39.06), ('Livestock', 54.69), ('Agri', 46.88)]\n",
      "Epoch: 1, T.Loss: 17.608, Accs: [('$', 42.19), ('Water', 57.81), ('Toilet', 46.88), ('Roof', 32.81), ('Cook', 59.38), ('Drought', 56.25), ('Pop', 34.38), ('Livestock', 43.75), ('Agri', 50.0)]\n",
      "Epoch: 1, T.Loss: 17.566, Accs: [('$', 31.25), ('Water', 50.0), ('Toilet', 48.44), ('Roof', 34.38), ('Cook', 65.62), ('Drought', 54.69), ('Pop', 43.75), ('Livestock', 45.31), ('Agri', 50.0)]\n",
      "Epoch: 1, T.Loss: 16.340, Accs: [('$', 43.75), ('Water', 57.81), ('Toilet', 57.81), ('Roof', 40.62), ('Cook', 71.88), ('Drought', 67.19), ('Pop', 40.62), ('Livestock', 50.0), ('Agri', 53.12)]\n",
      "Epoch: 1, T.Loss: 17.303, Accs: [('$', 34.38), ('Water', 65.62), ('Toilet', 56.25), ('Roof', 34.38), ('Cook', 65.62), ('Drought', 71.88), ('Pop', 32.81), ('Livestock', 51.56), ('Agri', 53.12)]\n",
      "Epoch: 1, T.Loss: 16.665, Accs: [('$', 0.0), ('Water', 66.67), ('Toilet', 33.33), ('Roof', 66.67), ('Cook', 33.33), ('Drought', 66.67), ('Pop', 66.67), ('Livestock', 33.33), ('Agri', 33.33)]\n",
      "Epoch: 1, V.Loss: 17.293, Accs: [('$', 36.09), ('Water', 51.26), ('Toilet', 57.23), ('Roof', 31.17), ('Cook', 69.08), ('Drought', 63.76), ('Pop', 42.67), ('Livestock', 44.78), ('Agri', 46.03)]\n",
      "Epoch: 2, T.Loss: 17.708, Accs: [('$', 37.5), ('Water', 54.69), ('Toilet', 46.88), ('Roof', 29.69), ('Cook', 64.06), ('Drought', 51.56), ('Pop', 43.75), ('Livestock', 48.44), ('Agri', 48.44)]\n",
      "Epoch: 2, T.Loss: 18.581, Accs: [('$', 28.12), ('Water', 50.0), ('Toilet', 46.88), ('Roof', 35.94), ('Cook', 62.5), ('Drought', 50.0), ('Pop', 37.5), ('Livestock', 39.06), ('Agri', 34.38)]\n",
      "Epoch: 2, T.Loss: 17.034, Accs: [('$', 34.38), ('Water', 50.0), ('Toilet', 59.38), ('Roof', 29.69), ('Cook', 71.88), ('Drought', 57.81), ('Pop', 42.19), ('Livestock', 34.38), ('Agri', 57.81)]\n",
      "Epoch: 2, T.Loss: 17.359, Accs: [('$', 29.69), ('Water', 56.25), ('Toilet', 64.06), ('Roof', 40.62), ('Cook', 65.62), ('Drought', 60.94), ('Pop', 53.12), ('Livestock', 50.0), ('Agri', 51.56)]\n",
      "Epoch: 2, T.Loss: 17.034, Accs: [('$', 46.88), ('Water', 60.94), ('Toilet', 62.5), ('Roof', 32.81), ('Cook', 67.19), ('Drought', 70.31), ('Pop', 42.19), ('Livestock', 45.31), ('Agri', 53.12)]\n",
      "Epoch: 2, T.Loss: 17.217, Accs: [('$', 29.69), ('Water', 54.69), ('Toilet', 57.81), ('Roof', 32.81), ('Cook', 68.75), ('Drought', 65.62), ('Pop', 40.62), ('Livestock', 40.62), ('Agri', 64.06)]\n",
      "Epoch: 2, T.Loss: 17.060, Accs: [('$', 39.06), ('Water', 54.69), ('Toilet', 51.56), ('Roof', 39.06), ('Cook', 73.44), ('Drought', 60.94), ('Pop', 45.31), ('Livestock', 42.19), ('Agri', 53.12)]\n",
      "Epoch: 2, T.Loss: 17.506, Accs: [('$', 32.81), ('Water', 54.69), ('Toilet', 51.56), ('Roof', 34.38), ('Cook', 59.38), ('Drought', 60.94), ('Pop', 40.62), ('Livestock', 42.19), ('Agri', 50.0)]\n",
      "Epoch: 2, T.Loss: 16.923, Accs: [('$', 29.69), ('Water', 48.44), ('Toilet', 56.25), ('Roof', 28.12), ('Cook', 71.88), ('Drought', 64.06), ('Pop', 51.56), ('Livestock', 46.88), ('Agri', 54.69)]\n",
      "Epoch: 2, T.Loss: 17.261, Accs: [('$', 37.5), ('Water', 45.31), ('Toilet', 57.81), ('Roof', 31.25), ('Cook', 78.12), ('Drought', 60.94), ('Pop', 43.75), ('Livestock', 46.88), ('Agri', 50.0)]\n",
      "Epoch: 2, T.Loss: 17.379, Accs: [('$', 32.81), ('Water', 46.88), ('Toilet', 62.5), ('Roof', 32.81), ('Cook', 75.0), ('Drought', 57.81), ('Pop', 43.75), ('Livestock', 43.75), ('Agri', 53.12)]\n",
      "Epoch: 2, T.Loss: 17.819, Accs: [('$', 34.38), ('Water', 45.31), ('Toilet', 56.25), ('Roof', 21.88), ('Cook', 68.75), ('Drought', 57.81), ('Pop', 37.5), ('Livestock', 54.69), ('Agri', 51.56)]\n",
      "Epoch: 2, T.Loss: 16.895, Accs: [('$', 34.38), ('Water', 46.88), ('Toilet', 59.38), ('Roof', 29.69), ('Cook', 79.69), ('Drought', 59.38), ('Pop', 43.75), ('Livestock', 54.69), ('Agri', 39.06)]\n",
      "Epoch: 2, T.Loss: 17.756, Accs: [('$', 34.38), ('Water', 50.0), ('Toilet', 65.62), ('Roof', 34.38), ('Cook', 60.94), ('Drought', 62.5), ('Pop', 39.06), ('Livestock', 45.31), ('Agri', 37.5)]\n",
      "Epoch: 2, T.Loss: 17.124, Accs: [('$', 32.81), ('Water', 42.19), ('Toilet', 62.5), ('Roof', 34.38), ('Cook', 78.12), ('Drought', 57.81), ('Pop', 45.31), ('Livestock', 54.69), ('Agri', 39.06)]\n",
      "Epoch: 2, T.Loss: 17.344, Accs: [('$', 40.62), ('Water', 45.31), ('Toilet', 50.0), ('Roof', 31.25), ('Cook', 75.0), ('Drought', 54.69), ('Pop', 39.06), ('Livestock', 42.19), ('Agri', 43.75)]\n",
      "Epoch: 2, T.Loss: 16.815, Accs: [('$', 50.0), ('Water', 51.56), ('Toilet', 59.38), ('Roof', 32.81), ('Cook', 68.75), ('Drought', 64.06), ('Pop', 43.75), ('Livestock', 45.31), ('Agri', 40.62)]\n",
      "Epoch: 2, T.Loss: 18.030, Accs: [('$', 28.12), ('Water', 53.12), ('Toilet', 53.12), ('Roof', 35.94), ('Cook', 59.38), ('Drought', 64.06), ('Pop', 32.81), ('Livestock', 50.0), ('Agri', 57.81)]\n",
      "Epoch: 2, T.Loss: 16.947, Accs: [('$', 40.62), ('Water', 54.69), ('Toilet', 51.56), ('Roof', 39.06), ('Cook', 67.19), ('Drought', 65.62), ('Pop', 40.62), ('Livestock', 45.31), ('Agri', 50.0)]\n",
      "Epoch: 2, T.Loss: 17.109, Accs: [('$', 34.38), ('Water', 50.0), ('Toilet', 64.06), ('Roof', 31.25), ('Cook', 73.44), ('Drought', 62.5), ('Pop', 34.38), ('Livestock', 43.75), ('Agri', 57.81)]\n",
      "Epoch: 2, T.Loss: 17.132, Accs: [('$', 45.31), ('Water', 50.0), ('Toilet', 46.88), ('Roof', 37.5), ('Cook', 64.06), ('Drought', 70.31), ('Pop', 40.62), ('Livestock', 51.56), ('Agri', 56.25)]\n",
      "Epoch: 2, T.Loss: 18.322, Accs: [('$', 20.31), ('Water', 54.69), ('Toilet', 60.94), ('Roof', 26.56), ('Cook', 65.62), ('Drought', 59.38), ('Pop', 35.94), ('Livestock', 43.75), ('Agri', 45.31)]\n"
     ]
    },
    {
     "name": "stdout",
     "output_type": "stream",
     "text": [
      "Epoch: 2, T.Loss: 16.711, Accs: [('$', 48.44), ('Water', 53.12), ('Toilet', 65.62), ('Roof', 28.12), ('Cook', 70.31), ('Drought', 68.75), ('Pop', 35.94), ('Livestock', 43.75), ('Agri', 56.25)]\n",
      "Epoch: 2, T.Loss: 17.642, Accs: [('$', 26.56), ('Water', 54.69), ('Toilet', 57.81), ('Roof', 35.94), ('Cook', 68.75), ('Drought', 65.62), ('Pop', 37.5), ('Livestock', 45.31), ('Agri', 42.19)]\n",
      "Epoch: 2, T.Loss: 16.506, Accs: [('$', 35.94), ('Water', 59.38), ('Toilet', 64.06), ('Roof', 32.81), ('Cook', 71.88), ('Drought', 65.62), ('Pop', 60.94), ('Livestock', 39.06), ('Agri', 50.0)]\n",
      "Epoch: 2, T.Loss: 18.348, Accs: [('$', 32.81), ('Water', 42.19), ('Toilet', 42.19), ('Roof', 35.94), ('Cook', 62.5), ('Drought', 56.25), ('Pop', 46.88), ('Livestock', 43.75), ('Agri', 45.31)]\n",
      "Epoch: 2, T.Loss: 18.107, Accs: [('$', 32.81), ('Water', 45.31), ('Toilet', 46.88), ('Roof', 37.5), ('Cook', 65.62), ('Drought', 59.38), ('Pop', 35.94), ('Livestock', 46.88), ('Agri', 62.5)]\n"
     ]
    }
   ],
   "source": [
    "learn.fit(3, 5e-2, db, opt_fn)\n",
    "learn.fit(3, 1e-2, db, opt_fn)\n",
    "learn.fit(3, 5e-3, db, opt_fn)"
   ]
  },
  {
   "cell_type": "code",
   "execution_count": null,
   "metadata": {},
   "outputs": [],
   "source": [
    "learn.wrapper.freeze_features()\n",
    "learn.fit(2, 5e-1, db, opt_fn)\n",
    "\n",
    "learn.wrapper.partial_freeze_features(pct=0.7)\n",
    "learn.fit(1, 5e-1, db, opt_fn)\n",
    "\n",
    "learn.wrapper.freeze_features(False)\n",
    "learn.fit(2, 1e-1, db, opt_fn)"
   ]
  },
  {
   "cell_type": "code",
   "execution_count": null,
   "metadata": {},
   "outputs": [],
   "source": [
    "db = get_data(img_sz=224, bs=64)"
   ]
  },
  {
   "cell_type": "code",
   "execution_count": null,
   "metadata": {},
   "outputs": [],
   "source": [
    "learn.fit(2, 5e-1, db, opt_fn)\n",
    "learn.fit(2, 5e-2, db, opt_fn)"
   ]
  },
  {
   "cell_type": "code",
   "execution_count": null,
   "metadata": {},
   "outputs": [],
   "source": [
    "db = get_data(img_sz=299, bs=64)"
   ]
  },
  {
   "cell_type": "code",
   "execution_count": null,
   "metadata": {},
   "outputs": [],
   "source": [
    "learn.fit(1, 5e-1, db, opt_fn)\n",
    "learn.fit(1, 1e-2, db, opt_fn)\n",
    "learn.fit(2, 1e-3, db, opt_fn)"
   ]
  },
  {
   "cell_type": "code",
   "execution_count": null,
   "metadata": {},
   "outputs": [],
   "source": [
    "torch.save(learn.wrapper.model.state_dict(), 'simple-model-R.pt')"
   ]
  },
  {
   "cell_type": "code",
   "execution_count": null,
   "metadata": {},
   "outputs": [],
   "source": [
    "import torch\n",
    "from torch import nn, optim\n",
    "from torchvision import models"
   ]
  },
  {
   "cell_type": "code",
   "execution_count": null,
   "metadata": {},
   "outputs": [],
   "source": [
    "class Net(nn.Module):\n",
    "    def __init__(self, M, N):\n",
    "        super().__init__()\n",
    "        self.one = nn.Sequential(*list(M.children()))\n",
    "        self.two = nn.Sequential(*list(N.children()))\n",
    "        \n",
    "        self.cls = nn.Linear(4,2)"
   ]
  },
  {
   "cell_type": "code",
   "execution_count": null,
   "metadata": {},
   "outputs": [],
   "source": [
    "res1 = models.resnet18()\n",
    "res2 = models.resnet18()\n",
    "n = Net(res1, res2)"
   ]
  },
  {
   "cell_type": "code",
   "execution_count": null,
   "metadata": {},
   "outputs": [],
   "source": [
    "for k,v in n.named_parameters():\n",
    "    print(k,v.shape)"
   ]
  },
  {
   "cell_type": "code",
   "execution_count": null,
   "metadata": {},
   "outputs": [],
   "source": [
    "n"
   ]
  },
  {
   "cell_type": "code",
   "execution_count": null,
   "metadata": {},
   "outputs": [],
   "source": [
    "m = wrapper.model"
   ]
  },
  {
   "cell_type": "code",
   "execution_count": null,
   "metadata": {},
   "outputs": [],
   "source": [
    "m"
   ]
  },
  {
   "cell_type": "code",
   "execution_count": null,
   "metadata": {},
   "outputs": [],
   "source": [
    "for k,v in m.nir_features.named_parameters():\n",
    "    print(k, v.shape)"
   ]
  },
  {
   "cell_type": "code",
   "execution_count": null,
   "metadata": {},
   "outputs": [],
   "source": []
  }
 ],
 "metadata": {
  "kernelspec": {
   "display_name": "torch",
   "language": "python",
   "name": "torch"
  },
  "language_info": {
   "codemirror_mode": {
    "name": "ipython",
    "version": 3
   },
   "file_extension": ".py",
   "mimetype": "text/x-python",
   "name": "python",
   "nbconvert_exporter": "python",
   "pygments_lexer": "ipython3",
   "version": "3.7.4"
  }
 },
 "nbformat": 4,
 "nbformat_minor": 2
}
