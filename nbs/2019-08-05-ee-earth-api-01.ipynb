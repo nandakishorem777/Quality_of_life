{
 "cells": [
  {
   "cell_type": "code",
   "execution_count": 1,
   "metadata": {},
   "outputs": [],
   "source": [
    "import ee\n",
    "ee.Initialize()"
   ]
  },
  {
   "cell_type": "code",
   "execution_count": 2,
   "metadata": {},
   "outputs": [],
   "source": [
    "aString = 'To the cloud!'\n",
    "eeString = ee.String(aString)"
   ]
  },
  {
   "cell_type": "code",
   "execution_count": 3,
   "metadata": {},
   "outputs": [
    {
     "name": "stdout",
     "output_type": "stream",
     "text": [
      "ee.String(\"To the cloud!\")\n"
     ]
    }
   ],
   "source": [
    "print(eeString)"
   ]
  },
  {
   "cell_type": "code",
   "execution_count": 4,
   "metadata": {},
   "outputs": [
    {
     "name": "stdout",
     "output_type": "stream",
     "text": [
      "ee.List({\n",
      "  \"type\": \"Invocation\",\n",
      "  \"arguments\": {\n",
      "    \"start\": 1,\n",
      "    \"end\": 5\n",
      "  },\n",
      "  \"functionName\": \"List.sequence\"\n",
      "})\n",
      "[1.0, 2.0, 3.0, 4.0, 5.0]\n"
     ]
    }
   ],
   "source": [
    "eeList = ee.List.sequence(1, 5)\n",
    "print(eeList)\n",
    "print(eeList.getInfo())"
   ]
  },
  {
   "cell_type": "code",
   "execution_count": 8,
   "metadata": {},
   "outputs": [
    {
     "name": "stdout",
     "output_type": "stream",
     "text": [
      "ee.Dictionary({\n",
      "  \"type\": \"Dictionary\",\n",
      "  \"value\": {\n",
      "    \"e\": 2.718281828459045,\n",
      "    \"pi\": 3.141592653589793\n",
      "  }\n",
      "})\n",
      "3.141592653589793\n"
     ]
    }
   ],
   "source": [
    "import numpy as np\n",
    "\n",
    "d = ee.Dictionary({\n",
    "    'e': np.e,\n",
    "    'pi': np.pi\n",
    "})\n",
    "\n",
    "print(d)\n",
    "print(d.getInfo()['pi'])"
   ]
  },
  {
   "cell_type": "code",
   "execution_count": 12,
   "metadata": {},
   "outputs": [
    {
     "name": "stdout",
     "output_type": "stream",
     "text": [
      "ee.Date({\n",
      "  \"type\": \"Invocation\",\n",
      "  \"arguments\": {\n",
      "    \"value\": \"2019-08-17\"\n",
      "  },\n",
      "  \"functionName\": \"Date\"\n",
      "})\n",
      "{'type': 'Date', 'value': 1566000000000}\n"
     ]
    }
   ],
   "source": [
    "import datetime as dt\n",
    "\n",
    "date = ee.Date('2019-08-17')\n",
    "print(date)\n",
    "print(date.getInfo())"
   ]
  },
  {
   "cell_type": "code",
   "execution_count": 13,
   "metadata": {},
   "outputs": [
    {
     "name": "stdout",
     "output_type": "stream",
     "text": [
      "ee.Date({\n",
      "  \"type\": \"Invocation\",\n",
      "  \"arguments\": {\n",
      "    \"value\": 1566042034274\n",
      "  },\n",
      "  \"functionName\": \"Date\"\n",
      "})\n"
     ]
    }
   ],
   "source": [
    "eeNow = ee.Date(dt.datetime.now())\n",
    "print(eeNow)"
   ]
  },
  {
   "cell_type": "code",
   "execution_count": 14,
   "metadata": {},
   "outputs": [
    {
     "name": "stdout",
     "output_type": "stream",
     "text": [
      "ee.Date({\n",
      "  \"type\": \"Invocation\",\n",
      "  \"arguments\": {\n",
      "    \"year\": 2017,\n",
      "    \"month\": 1,\n",
      "    \"day\": 13\n",
      "  },\n",
      "  \"functionName\": \"Date.fromYMD\"\n",
      "})\n"
     ]
    }
   ],
   "source": [
    "aDate = ee.Date.fromYMD(2017, 1, 13)\n",
    "print(aDate)"
   ]
  },
  {
   "cell_type": "code",
   "execution_count": null,
   "metadata": {},
   "outputs": [],
   "source": []
  }
 ],
 "metadata": {
  "kernelspec": {
   "display_name": "Python 3",
   "language": "python",
   "name": "python3"
  },
  "language_info": {
   "codemirror_mode": {
    "name": "ipython",
    "version": 3
   },
   "file_extension": ".py",
   "mimetype": "text/x-python",
   "name": "python",
   "nbconvert_exporter": "python",
   "pygments_lexer": "ipython3",
   "version": "3.7.3"
  }
 },
 "nbformat": 4,
 "nbformat_minor": 2
}
