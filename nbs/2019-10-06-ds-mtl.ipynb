{
 "cells": [
  {
   "cell_type": "code",
   "execution_count": 1,
   "metadata": {},
   "outputs": [],
   "source": [
    "%reload_ext autoreload\n",
    "%autoreload 2\n",
    "\n",
    "%matplotlib inline"
   ]
  },
  {
   "cell_type": "code",
   "execution_count": 2,
   "metadata": {},
   "outputs": [],
   "source": [
    "from mlt_dataset import get_data"
   ]
  },
  {
   "cell_type": "code",
   "execution_count": 3,
   "metadata": {},
   "outputs": [],
   "source": [
    "tdl, vdl = get_data()"
   ]
  },
  {
   "cell_type": "code",
   "execution_count": 4,
   "metadata": {},
   "outputs": [],
   "source": [
    "xb, yb = next(iter(tdl))"
   ]
  },
  {
   "cell_type": "code",
   "execution_count": 5,
   "metadata": {},
   "outputs": [
    {
     "data": {
      "text/plain": [
       "torch.Size([4, 3, 128, 128])"
      ]
     },
     "execution_count": 5,
     "metadata": {},
     "output_type": "execute_result"
    }
   ],
   "source": [
    "xb.shape"
   ]
  },
  {
   "cell_type": "code",
   "execution_count": 7,
   "metadata": {},
   "outputs": [
    {
     "data": {
      "text/plain": [
       "tensor([1, 0, 2, 1])"
      ]
     },
     "execution_count": 7,
     "metadata": {},
     "output_type": "execute_result"
    }
   ],
   "source": [
    "yb['wealth']"
   ]
  },
  {
   "cell_type": "code",
   "execution_count": 8,
   "metadata": {},
   "outputs": [
    {
     "data": {
      "text/plain": [
       "17923"
      ]
     },
     "execution_count": 8,
     "metadata": {},
     "output_type": "execute_result"
    }
   ],
   "source": [
    "len(tdl.dataset)"
   ]
  },
  {
   "cell_type": "code",
   "execution_count": 9,
   "metadata": {},
   "outputs": [
    {
     "data": {
      "text/plain": [
       "1992"
      ]
     },
     "execution_count": 9,
     "metadata": {},
     "output_type": "execute_result"
    }
   ],
   "source": [
    "len(vdl.dataset)"
   ]
  },
  {
   "cell_type": "code",
   "execution_count": 10,
   "metadata": {},
   "outputs": [
    {
     "data": {
      "text/plain": [
       "{'wealth': {'classes': ['a:poorest',\n",
       "   'b:poorer',\n",
       "   'c:middle',\n",
       "   'd:richer',\n",
       "   'e:richest'],\n",
       "  'o2i': {'a:poorest': 0,\n",
       "   'b:poorer': 1,\n",
       "   'c:middle': 2,\n",
       "   'd:richer': 3,\n",
       "   'e:richest': 4}},\n",
       " 'water_src': {'classes': ['bottled water',\n",
       "   'cart with small tank',\n",
       "   'community ro plant',\n",
       "   'other',\n",
       "   'piped into dwelling',\n",
       "   'piped to yard/plot',\n",
       "   'protected spring',\n",
       "   'protected well',\n",
       "   'public tap/standpipe',\n",
       "   'rainwater',\n",
       "   'river/dam/lake/ponds/stream/canal/irrigation channel',\n",
       "   'tanker truck',\n",
       "   'tube well or borehole',\n",
       "   'unprotected spring',\n",
       "   'unprotected well'],\n",
       "  'o2i': {'bottled water': 0,\n",
       "   'cart with small tank': 1,\n",
       "   'community ro plant': 2,\n",
       "   'other': 3,\n",
       "   'piped into dwelling': 4,\n",
       "   'piped to yard/plot': 5,\n",
       "   'protected spring': 6,\n",
       "   'protected well': 7,\n",
       "   'public tap/standpipe': 8,\n",
       "   'rainwater': 9,\n",
       "   'river/dam/lake/ponds/stream/canal/irrigation channel': 10,\n",
       "   'tanker truck': 11,\n",
       "   'tube well or borehole': 12,\n",
       "   'unprotected spring': 13,\n",
       "   'unprotected well': 14}},\n",
       " 'toilet_type': {'classes': ['composting toilet',\n",
       "   'dry toilet',\n",
       "   'flush to piped sewer system',\n",
       "   'flush to pit latrine',\n",
       "   'flush to septic tank',\n",
       "   'flush to somewhere else',\n",
       "   'no facility/bush/field',\n",
       "   'other',\n",
       "   'pit latrine with slab',\n",
       "   'pit latrine without slab/open pit',\n",
       "   'ventilated improved pit latrine (vip)'],\n",
       "  'o2i': {'composting toilet': 0,\n",
       "   'dry toilet': 1,\n",
       "   'flush to piped sewer system': 2,\n",
       "   'flush to pit latrine': 3,\n",
       "   'flush to septic tank': 4,\n",
       "   'flush to somewhere else': 5,\n",
       "   'no facility/bush/field': 6,\n",
       "   'other': 7,\n",
       "   'pit latrine with slab': 8,\n",
       "   'pit latrine without slab/open pit': 9,\n",
       "   'ventilated improved pit latrine (vip)': 10}},\n",
       " 'roof': {'classes': ['asbestos sheets',\n",
       "   'burnt brick',\n",
       "   'calamine/cement fibre',\n",
       "   'loosely packed stone',\n",
       "   'metal/gi',\n",
       "   'mud',\n",
       "   'no roof',\n",
       "   'other',\n",
       "   'palm/bamboo',\n",
       "   'plastic/polythene sheeting',\n",
       "   'raw wood planks/timber',\n",
       "   'rcc/rbc/cement/concrete',\n",
       "   'roofing shingles',\n",
       "   'rustic mat',\n",
       "   'slate',\n",
       "   'sod/mud and grass mixture',\n",
       "   'thatch/palm leaf',\n",
       "   'tiles',\n",
       "   'unburnt bricks',\n",
       "   'wood'],\n",
       "  'o2i': {'asbestos sheets': 0,\n",
       "   'burnt brick': 1,\n",
       "   'calamine/cement fibre': 2,\n",
       "   'loosely packed stone': 3,\n",
       "   'metal/gi': 4,\n",
       "   'mud': 5,\n",
       "   'no roof': 6,\n",
       "   'other': 7,\n",
       "   'palm/bamboo': 8,\n",
       "   'plastic/polythene sheeting': 9,\n",
       "   'raw wood planks/timber': 10,\n",
       "   'rcc/rbc/cement/concrete': 11,\n",
       "   'roofing shingles': 12,\n",
       "   'rustic mat': 13,\n",
       "   'slate': 14,\n",
       "   'sod/mud and grass mixture': 15,\n",
       "   'thatch/palm leaf': 16,\n",
       "   'tiles': 17,\n",
       "   'unburnt bricks': 18,\n",
       "   'wood': 19}}}"
      ]
     },
     "execution_count": 10,
     "metadata": {},
     "output_type": "execute_result"
    }
   ],
   "source": [
    "tdl.dataset.targets"
   ]
  },
  {
   "cell_type": "code",
   "execution_count": null,
   "metadata": {},
   "outputs": [],
   "source": []
  }
 ],
 "metadata": {
  "kernelspec": {
   "display_name": "torch",
   "language": "python",
   "name": "torch"
  },
  "language_info": {
   "codemirror_mode": {
    "name": "ipython",
    "version": 3
   },
   "file_extension": ".py",
   "mimetype": "text/x-python",
   "name": "python",
   "nbconvert_exporter": "python",
   "pygments_lexer": "ipython3",
   "version": "3.7.4"
  }
 },
 "nbformat": 4,
 "nbformat_minor": 2
}
